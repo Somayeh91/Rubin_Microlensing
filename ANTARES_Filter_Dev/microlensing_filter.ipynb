{
 "cells": [
  {
   "cell_type": "code",
   "execution_count": 1,
   "id": "bde8999b-e147-4b5f-b7b6-6a09d6705d61",
   "metadata": {
    "execution": {
     "iopub.execute_input": "2025-03-10T15:11:20.065483Z",
     "iopub.status.busy": "2025-03-10T15:11:20.065117Z",
     "iopub.status.idle": "2025-03-10T15:11:20.073767Z",
     "shell.execute_reply": "2025-03-10T15:11:20.073390Z",
     "shell.execute_reply.started": "2025-03-10T15:11:20.065461Z"
    }
   },
   "outputs": [
    {
     "name": "stdout",
     "output_type": "stream",
     "text": [
      "Loading ANTARES from /data0/sw/antares-kernel/lib/python3.9/site-packages/antares/__init__.py\n",
      "\n",
      "        _    _   _ _____  _    ____  _____ ____\n",
      "       / \\  | \\ | |_   _|/ \\  |  _ \\| ____/ ___|\n",
      "      / _ \\ |  \\| | | | / _ \\ | |_| |  _| \\___ \\\\\n",
      "     / ___ \\| |\\  | | |/ ___ \\|  _ /| |___ ___| |\n",
      "    /_/   \\_\\_| \\_| |_/_/   \\_\\_| \\_\\_____|____/   v2.11.0\n",
      "    \n"
     ]
    }
   ],
   "source": [
    "import antares"
   ]
  },
  {
   "cell_type": "code",
   "execution_count": 2,
   "id": "99094119-a0f1-463b-8fbf-e9d4c9d8da23",
   "metadata": {
    "execution": {
     "iopub.execute_input": "2025-03-10T15:11:23.709693Z",
     "iopub.status.busy": "2025-03-10T15:11:23.709335Z",
     "iopub.status.idle": "2025-03-10T15:11:23.713383Z",
     "shell.execute_reply": "2025-03-10T15:11:23.713023Z",
     "shell.execute_reply.started": "2025-03-10T15:11:23.709672Z"
    }
   },
   "outputs": [],
   "source": [
    "__nbid__ = '0062'\n",
    "__author__ = 'Carl Stubens, Sebastián Vicencio'\n",
    "__edited__ = 'Gautham Narayan, Chien-Hsiu Lee, ANTARES Team <antares@noirlab.edu>'\n",
    "__version__ = '20240601' # yyyymmdd\n",
    "__datasets__ = ['']\n",
    "__keywords__ = ['ANTARES', 'transient']"
   ]
  },
  {
   "cell_type": "code",
   "execution_count": 3,
   "id": "0a1fb617-42cf-4611-9810-f765318e4825",
   "metadata": {
    "execution": {
     "iopub.execute_input": "2025-03-10T15:13:07.108312Z",
     "iopub.status.busy": "2025-03-10T15:13:07.107925Z",
     "iopub.status.idle": "2025-03-10T15:13:13.974009Z",
     "shell.execute_reply": "2025-03-10T15:13:13.973373Z",
     "shell.execute_reply.started": "2025-03-10T15:13:07.108292Z"
    }
   },
   "outputs": [
    {
     "name": "stderr",
     "output_type": "stream",
     "text": [
      "Jaeger tracer already initialized, skipping\n"
     ]
    },
    {
     "name": "stdout",
     "output_type": "stream",
     "text": [
      "2025-03-10 08:13:08,457 - WARNING MainThread settings.py:setup_prometheus:124 - Prometheus failed to start with [Errno 98] Address already in use\n",
      "Testing loading a random Locus with `dk.get_locus()`...\n",
      "\n",
      "ANTARES v2.11.0 DevKit is ready!\n",
      "Website: https://antares.noirlab.edu\n",
      "Documentation: https://nsf-noirlab.gitlab.io/csdc/antares/antares/\n",
      "\n"
     ]
    }
   ],
   "source": [
    "# Imports\n",
    "import antares.devkit as dk\n",
    "dk.init()\n",
    "# You should see a happy message that says that \"ANTARES DevKit is ready!\""
   ]
  },
  {
   "cell_type": "markdown",
   "id": "fb0afe7a-1ca7-4e31-9255-fa8c9255d9ce",
   "metadata": {},
   "source": [
    "# Writing a preliminary microlensing filter that reads in the photometry"
   ]
  },
  {
   "cell_type": "code",
   "execution_count": 33,
   "id": "6265a270-ba5e-447e-ae71-e9b07e9ca381",
   "metadata": {
    "execution": {
     "iopub.execute_input": "2025-03-10T15:42:44.463933Z",
     "iopub.status.busy": "2025-03-10T15:42:44.463667Z",
     "iopub.status.idle": "2025-03-10T15:42:44.474302Z",
     "shell.execute_reply": "2025-03-10T15:42:44.473842Z",
     "shell.execute_reply.started": "2025-03-10T15:42:44.463918Z"
    }
   },
   "outputs": [],
   "source": [
    "from statsmodels.stats.weightstats import DescrStatsW\n",
    "import numpy as np\n",
    "from astropy.table import MaskedColumn\n",
    "import warnings\n",
    "import astropy\n",
    "import matplotlib.pyplot as plt\n",
    "\n",
    "# Microlensing detection code is partly from \n",
    "\n",
    "class microlensing(dk.Filter):    \n",
    "    INPUT_LOCUS_PROPERTIES = [\n",
    "        'ztf_object_id',\n",
    "    ]\n",
    "    \n",
    "    OUTPUT_TAGS = [\n",
    "        {\n",
    "            'name': 'microlensing_candidate',\n",
    "            'description': 'Locus - a transient candidate - exhibits a microlensing-like variability',\n",
    "        }\n",
    "    ]\n",
    "\n",
    "\n",
    "    def make_lc(self, locus):\n",
    "\n",
    "        with warnings.catch_warnings():\n",
    "            # The cast of locus.timeseries: astropy.table.Table to a pandas\n",
    "            # dataframe results in the conversion of some integer-valued\n",
    "            # columns to floating point represntation. This can result in a\n",
    "            # number of noisy warning so we will catch & ignore them for the\n",
    "            # next couple of lines.\n",
    "            warnings.simplefilter(\"ignore\", astropy.table.TableReplaceWarning)\n",
    "            df = locus.timeseries.to_pandas()\n",
    "\n",
    "        data = df[['ant_mjd', 'ztf_fid', 'ztf_magpsf', 'ztf_sigmapsf']]\n",
    "        dn = data.dropna()\n",
    "\n",
    "        plt.scatter(dn['ant_mjd'][dn['ztf_fid']==1], dn['ztf_magpsf'][dn['ztf_fid']==1], color='g', label='g_band')\n",
    "        plt.scatter(dn['ant_mjd'][dn['ztf_fid']==2], dn['ztf_magpsf'][dn['ztf_fid']==2], color='r', label='i_band')\n",
    "        \n",
    "        plt.xlabel('Time (mjd)')\n",
    "        plt.ylabel('Magnitude')\n",
    "        plt.legend()\n",
    "\n",
    "\n",
    "    def is_microlensing_candidate(self, times, mags, errors):\n",
    "        \"\"\"\n",
    "        Efficient microlensing detection using heuristics & template matching.\n",
    "        \"\"\"\n",
    "        if len(times) < 10:  # Too few data points\n",
    "            return False\n",
    "\n",
    "        # Sort data by time\n",
    "        sorted_idx = np.argsort(times)\n",
    "        times, mags, errors = times[sorted_idx], mags[sorted_idx], errors[sorted_idx]\n",
    "\n",
    "        # 1. Check for smoothness (low skewness means symmetric light curve)\n",
    "        if abs(skew(mags)) > 1:\n",
    "            return False\n",
    "\n",
    "        # 2. Check for achromaticity (g-band vs i-band similarity)\n",
    "        if np.std(mags) / np.mean(mags) > 0.2:  # Reject if color variation is large\n",
    "            return False\n",
    "\n",
    "        # 3. Check variability (microlensing should have a clear peak)\n",
    "        if np.ptp(mags) < 0.5:  # Peak-to-peak magnitude difference\n",
    "            return False\n",
    "\n",
    "        # 4. Perform a lightweight template fit (Paczyński model)\n",
    "        t0_guess = times[np.argmin(mags)]  # Min mag is peak time\n",
    "        initial_guess = [t0_guess, 0.1, 20, np.median(mags), 0.1]  # Initial params\n",
    "\n",
    "        try:\n",
    "            popt, _ = curve_fit(paczynski, times, mags, p0=initial_guess, sigma=errors, maxfev=5000)\n",
    "            chi2 = np.sum(((mags - paczynski(times, *popt)) / errors) ** 2) / len(times)\n",
    "\n",
    "            # 5. Apply a simple chi2 threshold\n",
    "            if chi2 < 2:  # Well-fit light curves pass\n",
    "                return True\n",
    "        except RuntimeError:\n",
    "            return False  # Fit failed\n",
    "\n",
    "        return False\n",
    "    def run(self, locus):\n",
    "        print('Processing Locus:', locus.locus_id)\n",
    "\n",
    "        with warnings.catch_warnings():\n",
    "            warnings.simplefilter(\"ignore\", astropy.table.TableReplaceWarning)\n",
    "            df = locus.timeseries.to_pandas()\n",
    "\n",
    "        data = df[['ant_mjd', 'ztf_fid', 'ztf_magpsf', 'ztf_sigmapsf']].dropna()\n",
    "\n",
    "        # Split into g-band and i-band\n",
    "        for band in [1, 2]:  # 1 = g-band, 2 = i-band\n",
    "            band_data = data[data['ztf_fid'] == band]\n",
    "            times, mags, errors = band_data['ant_mjd'].values, band_data['ztf_magpsf'].values, band_data['ztf_sigmapsf'].values\n",
    "            \n",
    "            if self.is_microlensing_candidate(times, mags, errors):\n",
    "                print(f'Locus {locus.locus_id} is a microlensing candidate in band {band}')\n",
    "                return {'microlensing_candidate': True}\n",
    "\n",
    "        return {'microlensing_candidate': False}"
   ]
  },
  {
   "cell_type": "code",
   "execution_count": 34,
   "id": "959bd7a3-13da-499f-8012-fb68e7f75614",
   "metadata": {
    "execution": {
     "iopub.execute_input": "2025-03-10T15:43:02.735577Z",
     "iopub.status.busy": "2025-03-10T15:43:02.735336Z",
     "iopub.status.idle": "2025-03-10T15:43:05.429598Z",
     "shell.execute_reply": "2025-03-10T15:43:05.429014Z",
     "shell.execute_reply.started": "2025-03-10T15:43:02.735562Z"
    }
   },
   "outputs": [
    {
     "name": "stdout",
     "output_type": "stream",
     "text": [
      "Processing Locus: ANT2025bs07tv6e30ui\n"
     ]
    }
   ],
   "source": [
    "# Fetch 1 random Locus ID from the test dataset\n",
    "locus_id = dk.get_locus_ids(1)[0]\n",
    "\n",
    "# Execute the microlensing filter on the locus\n",
    "report = dk.run_filter(microlensing, locus=locus_id)\n"
   ]
  },
  {
   "cell_type": "code",
   "execution_count": 36,
   "id": "1c0f74d3-09e0-43e7-8d24-000b4268909b",
   "metadata": {
    "execution": {
     "iopub.execute_input": "2025-03-10T15:43:29.129673Z",
     "iopub.status.busy": "2025-03-10T15:43:29.129438Z",
     "iopub.status.idle": "2025-03-10T15:43:29.132947Z",
     "shell.execute_reply": "2025-03-10T15:43:29.132467Z",
     "shell.execute_reply.started": "2025-03-10T15:43:29.129659Z"
    }
   },
   "outputs": [
    {
     "name": "stdout",
     "output_type": "stream",
     "text": [
      "{'locus_id': 'ANT2025bs07tv6e30ui', 'locus_data': FilterContext(locus_id=\"ANT2025bs07tv6e30ui\"), 't': 0.04074877799999754, 'new_locus_properties': {}, 'new_alert_properties': {}, 'new_tags': set(), 'raised_halt': False}\n"
     ]
    }
   ],
   "source": [
    "print(report)"
   ]
  },
  {
   "cell_type": "code",
   "execution_count": null,
   "id": "18b5e878-9f35-46d4-8478-6da94348347f",
   "metadata": {},
   "outputs": [],
   "source": []
  }
 ],
 "metadata": {
  "kernelspec": {
   "display_name": "Python 3 (ANTARES,Py3.9.18)",
   "language": "python",
   "name": "antares_py3.7"
  },
  "language_info": {
   "codemirror_mode": {
    "name": "ipython",
    "version": 3
   },
   "file_extension": ".py",
   "mimetype": "text/x-python",
   "name": "python",
   "nbconvert_exporter": "python",
   "pygments_lexer": "ipython3",
   "version": "3.9.18"
  }
 },
 "nbformat": 4,
 "nbformat_minor": 5
}
