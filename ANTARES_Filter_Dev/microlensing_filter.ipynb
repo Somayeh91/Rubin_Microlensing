{
 "cells": [
  {
   "cell_type": "code",
   "execution_count": null,
   "id": "50f663ca-354f-4884-8bc5-f3a831de71f6",
   "metadata": {},
   "outputs": [],
   "source": [
    "\n"
   ]
  },
  {
   "cell_type": "code",
   "execution_count": 2,
   "id": "bde8999b-e147-4b5f-b7b6-6a09d6705d61",
   "metadata": {
    "execution": {
     "iopub.execute_input": "2024-08-26T17:14:02.820255Z",
     "iopub.status.busy": "2024-08-26T17:14:02.820063Z",
     "iopub.status.idle": "2024-08-26T17:14:02.950365Z",
     "shell.execute_reply": "2024-08-26T17:14:02.949757Z",
     "shell.execute_reply.started": "2024-08-26T17:14:02.820244Z"
    }
   },
   "outputs": [
    {
     "ename": "ModuleNotFoundError",
     "evalue": "No module named 'antares'",
     "output_type": "error",
     "traceback": [
      "\u001b[0;31m---------------------------------------------------------------------------\u001b[0m",
      "\u001b[0;31mModuleNotFoundError\u001b[0m                       Traceback (most recent call last)",
      "Cell \u001b[0;32mIn[2], line 1\u001b[0m\n\u001b[0;32m----> 1\u001b[0m \u001b[38;5;28;01mimport\u001b[39;00m \u001b[38;5;21;01mantares\u001b[39;00m\n",
      "\u001b[0;31mModuleNotFoundError\u001b[0m: No module named 'antares'"
     ]
    }
   ],
   "source": [
    "import antares"
   ]
  },
  {
   "cell_type": "code",
   "execution_count": 1,
   "id": "99094119-a0f1-463b-8fbf-e9d4c9d8da23",
   "metadata": {
    "execution": {
     "iopub.execute_input": "2024-08-26T17:14:01.136271Z",
     "iopub.status.busy": "2024-08-26T17:14:01.136102Z",
     "iopub.status.idle": "2024-08-26T17:14:01.142292Z",
     "shell.execute_reply": "2024-08-26T17:14:01.141798Z",
     "shell.execute_reply.started": "2024-08-26T17:14:01.136258Z"
    }
   },
   "outputs": [],
   "source": [
    "__nbid__ = '0062'\n",
    "__author__ = 'Carl Stubens, Sebastián Vicencio'\n",
    "__edited__ = 'Gautham Narayan, Chien-Hsiu Lee, ANTARES Team <antares@noirlab.edu>'\n",
    "__version__ = '20240601' # yyyymmdd\n",
    "__datasets__ = ['']\n",
    "__keywords__ = ['ANTARES', 'transient']"
   ]
  },
  {
   "cell_type": "markdown",
   "id": "eec78440-ab42-4e50-b292-c8a36ff6e985",
   "metadata": {
    "execution": {
     "iopub.execute_input": "2024-08-26T15:18:32.906234Z",
     "iopub.status.busy": "2024-08-26T15:18:32.906007Z",
     "iopub.status.idle": "2024-08-26T15:18:32.916808Z",
     "shell.execute_reply": "2024-08-26T15:18:32.916208Z",
     "shell.execute_reply.started": "2024-08-26T15:18:32.906221Z"
    }
   },
   "source": [
    "# ANTARES Filter Development Kit\n",
    "\n",
    "_Carl Stubens, Gautham Narayan, Chien-Hsiu Lee, Sebastián Vicencio, ANTARES Team._\n",
    "\n",
    "_Many thanks to Mike Fitzpatrick, Adam Scott, Knut Olsen, Jennifer Andrews, Robert Nikutta, Alice Jacques._\n",
    "\n",
    "## Summary\n",
    "\n",
    "This notebook demonstrates how to write filters for [ANTARES](https://antares.noirlab.edu) and test them against a sample of real data from [ZTF](https://ztf.caltech.edu/).\n",
    "\n",
    "This notebook is intended to be used in Astro Data Lab's Jupyter environment. There, you will have access to ANTARES data. If you're not running in Data Lab, [sign up for Data Lab](https://datalab.noirlab.edu), then [log in to the notebook server](https://datalab.noirlab.edu/devbooks).\n",
    "\n",
    "For new Data Lab accounts, this notebook will be automatically included in your `notebooks/` directory. Otherwise, you can save this `.ipynb` notebook file locally, and then upload it to your Data Lab Jupyter notebook server (use the 'Upload' button in the upper left corner).\n",
    "\n",
    "In Data Lab, you MUST use the Kernel version \"Python 3 (ANTARES)\".\n",
    "\n",
    "## Goals\n",
    "\n",
    "To demonstrate:\n",
    "\n",
    "1. How to write filters using the ANTARES filter API.\n",
    "1. How to test filters against a small test dataset.\n",
    "\n",
    "\n",
    "<a class=\"anchor\" id=\"attribution\"></a>\n",
    "## Disclaimer & attribution\n",
    "\n",
    "Disclaimers\n",
    "-----------\n",
    "Note that using the Astro Data Lab constitutes your agreement with our minimal [Disclaimers](https://datalab.noirlab.edu/disclaimers.php).\n",
    "\n",
    "Acknowledgments\n",
    "---------------\n",
    "If you use **Astro Data Lab** in your published research, please include the text in your paper's Acknowledgments section:\n",
    "\n",
    "_This research uses services or data provided by the Astro Data Lab, which is part of the Community Science and Data Center (CSDC) Program of NSF NOIRLab. NOIRLab is operated by the Association of Universities for Research in Astronomy (AURA), Inc. under a cooperative agreement with the U.S. National Science Foundation._\n",
    "\n",
    "If you use **SPARCL jointly with the Astro Data Lab platform** (via JupyterLab, command-line, or web interface) in your published research, please include this text below in your paper's Acknowledgments section:\n",
    "\n",
    "_This research uses services or data provided by the SPectra Analysis and Retrievable Catalog Lab (SPARCL) and the Astro Data Lab, which are both part of the Community Science and Data Center (CSDC) Program of NSF NOIRLab. NOIRLab is operated by the Association of Universities for Research in Astronomy (AURA), Inc. under a cooperative agreement with the U.S. National Science Foundation._\n",
    "\n",
    "In either case **please cite the following papers**:\n",
    "\n",
    "* Data Lab concept paper: Fitzpatrick et al., \"The NOAO Data Laboratory: a conceptual overview\", SPIE, 9149, 2014, https://doi.org/10.1117/12.2057445\n",
    "\n",
    "* Astro Data Lab overview: Nikutta et al., \"Data Lab - A Community Science Platform\", Astronomy and Computing, 33, 2020, https://doi.org/10.1016/j.ascom.2020.100411\n",
    "\n",
    "If you are referring to the Data Lab JupyterLab / Jupyter Notebooks, cite:\n",
    "\n",
    "* Juneau et al., \"Jupyter-Enabled Astrophysical Analysis Using Data-Proximate Computing Platforms\", CiSE, 23, 15, 2021, https://doi.org/10.1109/MCSE.2021.3057097\n",
    "\n",
    "If publishing in a AAS journal, also add the keyword: `\\facility{Astro Data Lab}`\n",
    "\n",
    "And if you are using SPARCL, please also add `\\software{SPARCL}` and cite:\n",
    "\n",
    "* Juneau et al., \"SPARCL: SPectra Analysis and Retrievable Catalog Lab\", Conference Proceedings for ADASS XXXIII, 2024\n",
    "https://doi.org/10.48550/arXiv.2401.05576\n",
    "\n",
    "The NOIRLab Library maintains [lists of proper acknowledgments](https://noirlab.edu/science/about/scientific-acknowledgments) to use when publishing papers using the Lab's facilities, data, or services.\n",
    "\n",
    "\n",
    "## Table of Contents\n",
    "\n",
    "* [0. Background information on ANTARES](#background)\n",
    "* [1. Initialize the dev kit](#connect)\n",
    "* [2. Write a filter](#write)\n",
    " * [2.1 Hello world](#write-one)\n",
    " * [2.2 Example of a real filter](#write-two)\n",
    " * [2.3 Structure of a filter](#write-three)\n",
    "* [3. Test a filter](#test)\n",
    " * [3.1 Constructing locus objects](#test-one)\n",
    "* [4. Upload and use data files](#data)\n",
    " * [4.1 Uploading files into ANTARES](#data-one)\n",
    " * [4.2 Accessing files from filters](#data-two)\n",
    " * [4.3 Requesting files copy](#data-three)\n",
    "* [5. Submit filter to ANTARES](#submit)\n",
    "\n",
    "<a class=\"anchor\" id=\"background\"></a>\n",
    "## 0. Background information on ANTARES\n",
    "\n",
    "ANTARES receives alerts from surveys in real-time and sends them through a processing pipeline. The pipeline contains the following stages:\n",
    "\n",
    "1. Associate the alert with the nearest point of known past measurements within a 1\" radius. We call this a locus.\n",
    "2. Discard alerts with a high probability of being false detections.\n",
    "3. Discard alerts with poor image quality.\n",
    "4. Look up associated objects in our catalogs.\n",
    "5. If the alert's locus has two or more measurements on it, execute the filters.\n",
    "\n",
    "The filters are Python functions which take a `LocusData` object as a single parameter. Functions on the `LocusData` provide access to the alert's properties, the data from past alerts on the locus, and the associated catalog objects. The `LocusData` also provides functions to set new properties on the alert, and to send it to output streams.\n",
    "\n",
    "<a class=\"anchor\" id=\"connect\"></a>\n",
    "## 1. Initialize the dev kit\n",
    "\n",
    "This will configure the `antares` package to connect to the test database"
   ]
  },
  {
   "cell_type": "code",
   "execution_count": 4,
   "id": "0a1fb617-42cf-4611-9810-f765318e4825",
   "metadata": {
    "execution": {
     "iopub.execute_input": "2024-08-26T17:15:32.016092Z",
     "iopub.status.busy": "2024-08-26T17:15:32.015858Z",
     "iopub.status.idle": "2024-08-26T17:15:32.026855Z",
     "shell.execute_reply": "2024-08-26T17:15:32.026292Z",
     "shell.execute_reply.started": "2024-08-26T17:15:32.016078Z"
    }
   },
   "outputs": [
    {
     "ename": "ModuleNotFoundError",
     "evalue": "No module named 'antares'",
     "output_type": "error",
     "traceback": [
      "\u001b[0;31m---------------------------------------------------------------------------\u001b[0m",
      "\u001b[0;31mModuleNotFoundError\u001b[0m                       Traceback (most recent call last)",
      "Cell \u001b[0;32mIn[4], line 2\u001b[0m\n\u001b[1;32m      1\u001b[0m \u001b[38;5;66;03m# Imports\u001b[39;00m\n\u001b[0;32m----> 2\u001b[0m \u001b[38;5;28;01mimport\u001b[39;00m \u001b[38;5;21;01mantares\u001b[39;00m\u001b[38;5;21;01m.\u001b[39;00m\u001b[38;5;21;01mdevkit\u001b[39;00m \u001b[38;5;28;01mas\u001b[39;00m \u001b[38;5;21;01mdk\u001b[39;00m\n\u001b[1;32m      3\u001b[0m dk\u001b[38;5;241m.\u001b[39minit()\n\u001b[1;32m      4\u001b[0m \u001b[38;5;66;03m# You should see a happy message that says that \"ANTARES DevKit is ready!\"\u001b[39;00m\n",
      "\u001b[0;31mModuleNotFoundError\u001b[0m: No module named 'antares'"
     ]
    }
   ],
   "source": [
    "# Imports\n",
    "import antares.devkit as dk\n",
    "dk.init()\n",
    "# You should see a happy message that says that \"ANTARES DevKit is ready!\""
   ]
  },
  {
   "cell_type": "code",
   "execution_count": 3,
   "id": "6265a270-ba5e-447e-ae71-e9b07e9ca381",
   "metadata": {
    "execution": {
     "iopub.execute_input": "2024-08-26T17:14:06.981445Z",
     "iopub.status.busy": "2024-08-26T17:14:06.981231Z",
     "iopub.status.idle": "2024-08-26T17:14:06.991674Z",
     "shell.execute_reply": "2024-08-26T17:14:06.991083Z",
     "shell.execute_reply.started": "2024-08-26T17:14:06.981432Z"
    }
   },
   "outputs": [
    {
     "ename": "NameError",
     "evalue": "name 'antares' is not defined",
     "output_type": "error",
     "traceback": [
      "\u001b[0;31m---------------------------------------------------------------------------\u001b[0m",
      "\u001b[0;31mNameError\u001b[0m                                 Traceback (most recent call last)",
      "Cell \u001b[0;32mIn[3], line 1\u001b[0m\n\u001b[0;32m----> 1\u001b[0m \u001b[43mantares\u001b[49m \u001b[38;5;241m-\u001b[39m\u001b[38;5;241m-\u001b[39mversion\n",
      "\u001b[0;31mNameError\u001b[0m: name 'antares' is not defined"
     ]
    }
   ],
   "source": [
    "antares --version"
   ]
  },
  {
   "cell_type": "code",
   "execution_count": null,
   "id": "959bd7a3-13da-499f-8012-fb68e7f75614",
   "metadata": {},
   "outputs": [],
   "source": []
  }
 ],
 "metadata": {
  "kernelspec": {
   "display_name": "Python 3",
   "language": "python",
   "name": "python3"
  },
  "language_info": {
   "codemirror_mode": {
    "name": "ipython",
    "version": 3
   },
   "file_extension": ".py",
   "mimetype": "text/x-python",
   "name": "python",
   "nbconvert_exporter": "python",
   "pygments_lexer": "ipython3",
   "version": "3.10.13"
  }
 },
 "nbformat": 4,
 "nbformat_minor": 5
}
