{
 "cells": [
  {
   "cell_type": "markdown",
   "metadata": {},
   "source": [
    "This file is taken from Peter Yoachim github at https://github.com/yoachim/20_Scratch/blob/master/maf_examples/read_example.ipynb"
   ]
  },
  {
   "cell_type": "code",
   "execution_count": 1,
   "metadata": {},
   "outputs": [],
   "source": [
    "%matplotlib inline\n",
    "import numpy as np\n",
    "import matplotlib.pyplot as plt\n",
    "import healpy as hp\n",
    "\n",
    "import lsst.sims.maf.db as db\n",
    "import lsst.sims.maf.utils as utils\n",
    "import lsst.sims.maf.metrics as metrics\n",
    "import lsst.sims.maf.slicers as slicers\n",
    "import lsst.sims.maf.stackers as stackers\n",
    "import lsst.sims.maf.plots as plots\n",
    "import lsst.sims.maf.metricBundles as metricBundles"
   ]
  },
  {
   "cell_type": "code",
   "execution_count": 2,
   "metadata": {},
   "outputs": [],
   "source": [
    "# Connect to any old simulation\n",
    "\n"
   ]
  },
  {
   "cell_type": "code",
   "execution_count": null,
   "metadata": {},
   "outputs": [],
   "source": []
  },
  {
   "cell_type": "code",
   "execution_count": null,
   "metadata": {},
   "outputs": [],
   "source": []
  },
  {
   "cell_type": "code",
   "execution_count": null,
   "metadata": {},
   "outputs": [],
   "source": []
  },
  {
   "cell_type": "code",
   "execution_count": 3,
   "metadata": {},
   "outputs": [],
   "source": [
    "import glob \n",
    "dbDir = '/home/idies/workspace/lsst_cadence/FBS_1.7/'\n",
    "DBPATH_V1_5 = dbDir\n",
    "COLS = 'night, observationStartMJD, fieldRA, fieldDec, filter, proposalId, note'\n",
    "NSIDE = 64\n",
    "\n",
    "runs = glob.glob(dbDir+\"baseline*\")#+\"footprint*\")\n",
    "runs.sort()"
   ]
  },
  {
   "cell_type": "code",
   "execution_count": 4,
   "metadata": {},
   "outputs": [],
   "source": [
    "runs = [i.split('/')[-1].split('.d')[0] for i in runs]\n",
    "# runs = [i.split('/')[-1].split('.d')[0] for i in runs if i.split('/')[-1].split('.d')[0].split('_')[3]=='noddf']\n",
    "\n",
    "\n",
    "# runs = [i.split('/')[-1].split('.d')[0] for i in runs if not i.split('/')[-1].split('.d')[0].startswith('footprint_gp')]"
   ]
  },
  {
   "cell_type": "code",
   "execution_count": 5,
   "metadata": {},
   "outputs": [
    {
     "data": {
      "text/plain": [
       "['baseline_nexp1_v1.7_10yrs', 'baseline_nexp2_v1.7_10yrs']"
      ]
     },
     "execution_count": 5,
     "metadata": {},
     "output_type": "execute_result"
    }
   ],
   "source": [
    "runs"
   ]
  },
  {
   "cell_type": "code",
   "execution_count": 9,
   "metadata": {},
   "outputs": [
    {
     "name": "stderr",
     "output_type": "stream",
     "text": [
      "WARNING: AstropyDeprecationWarning: astropy.extern.six will be removed in 4.0, use the six module directly if it is still needed [astropy.extern.six]\n"
     ]
    },
    {
     "name": "stdout",
     "output_type": "stream",
     "text": [
      "connect to  /home/idies/workspace/lsst_cadence/FBS_1.7/baseline_nexp1_v1.7_10yrs.db \n",
      " SELECT night, observationStartMJD, fieldRA, fieldDec, filter, proposalId, note FROM SummaryAllProps\n",
      "Querying database SummaryAllProps with no constraint for columns ['fieldRA', 'night', 'fieldDec'].\n",
      "Found 2208619 visits\n",
      "Running:  ['opsim_NumObsMetric_USER']\n",
      "Completed metric generation.\n",
      "Running reduce methods.\n",
      "Running summary statistics.\n",
      "Completed.\n",
      "connect to  /home/idies/workspace/lsst_cadence/FBS_1.7/baseline_nexp2_v1.7_10yrs.db \n",
      " SELECT night, observationStartMJD, fieldRA, fieldDec, filter, proposalId, note FROM SummaryAllProps\n",
      "Querying database SummaryAllProps with no constraint for columns ['fieldRA', 'night', 'fieldDec'].\n",
      "Found 2045493 visits\n",
      "Running:  ['opsim_NumObsMetric_USER']\n",
      "Completed metric generation.\n",
      "Running reduce methods.\n",
      "Running summary statistics.\n",
      "Completed.\n"
     ]
    }
   ],
   "source": [
    "import sys\n",
    "import os\n",
    "sys.path.insert(0, '../sims_maf_contrib/')\n",
    "from mafContrib import NumObsMetric\n",
    "\n",
    "for run in runs:\n",
    "    \n",
    "    run_name = run #'bulges_i_heavy_v1.5_10yrs'\n",
    "    dbFile = dbDir+ run_name+ '.db'\n",
    "    conn = db.OpsimDatabase(dbFile)\n",
    "    your_username = 'somayeh91'\n",
    "    outDir = '/home/idies/workspace/Storage/{}/persistent/MAFOutput/Results_single_opsim_on_GP/'.format(your_username)\n",
    "    resultsDb = db.ResultsDb(outDir=outDir)\n",
    "\n",
    "    # Let's compute the coadded depth on the whole sky, and then the median\n",
    "    bundleList = []\n",
    "    # sql = 'filter=\"r\"'\n",
    "    metric = NumObsMetric()\n",
    "    # slicer = slicers.HealpixSlicer()\n",
    "    slicer = GP_slicer_selector(run_name+'.db')\n",
    "    summaryStats = [metrics.MedianMetric(), metrics.SumMetric(), metrics.MinMetric()]\n",
    "    # plotDict = {'colorMax': 27.4}\n",
    "    bundleList.append(metricBundles.MetricBundle(metric,slicer, summaryMetrics=summaryStats))#, plotDict=plotDict\n",
    "\n",
    "    bd = metricBundles.makeBundlesDictFromList(bundleList)\n",
    "    # bd[run_name+'_' +('opsim_NumObsMetric_USER').split('m_')[1]] = bd.pop('opsim_NumObsMetric_USER')\n",
    "    bg = metricBundles.MetricBundleGroup(bd, conn, outDir=outDir, resultsDb=resultsDb)\n",
    "    bg.runAll()\n",
    "\n",
    "    os.rename(r'./../MAFOutput/Results_single_opsim_on_GP/opsim_NumObsMetric_USER.npz','./../MAFOutput/Results_single_opsim_on_GP/'+str(run_name)+r'_NumObsMetric_USER.npz')\n"
   ]
  },
  {
   "cell_type": "code",
   "execution_count": 18,
   "metadata": {},
   "outputs": [
    {
     "data": {
      "text/plain": [
       "{'bulges_bs_v1.5_10yrsNumObsMetric_USER': <lsst.sims.maf.metricBundles.metricBundle.MetricBundle at 0x7f21f4e392b0>}"
      ]
     },
     "execution_count": 18,
     "metadata": {},
     "output_type": "execute_result"
    }
   ],
   "source": [
    "bd"
   ]
  },
  {
   "cell_type": "code",
   "execution_count": 9,
   "metadata": {},
   "outputs": [
    {
     "name": "stdout",
     "output_type": "stream",
     "text": [
      "Plotting figures with \"\" constraint now.\n",
      "Plotting complete.\n"
     ]
    }
   ],
   "source": [
    "bg.plotAll(closefigs=False)"
   ]
  },
  {
   "cell_type": "code",
   "execution_count": 10,
   "metadata": {},
   "outputs": [
    {
     "data": {
      "text/plain": [
       "3"
      ]
     },
     "execution_count": 10,
     "metadata": {},
     "output_type": "execute_result"
    }
   ],
   "source": [
    "# Plot both -- we'll start using the PlotHandler because it's a bit easier to update plot parameters\n",
    "ph = plots.PlotHandler(outDir='test', figformat='png', thumbnail=False, savefig=False)\n",
    "\n",
    "# Just plot the sky map\n",
    "plotFunc = plots.HealpixSkyMap()\n",
    "plotDict = {'colorMin': 1, 'colorMax':1050, 'scale': 'log'}\n",
    "\n",
    "# for r in runs:\n",
    "ph.setMetricBundles(bd)\n",
    "ph.plot(plotFunc=plotFunc, plotDicts=plotDict)"
   ]
  },
  {
   "cell_type": "code",
   "execution_count": 6,
   "metadata": {},
   "outputs": [],
   "source": [
    "def GP_slicer_selector (dbname, COLS = 'night, observationStartMJD, fieldRA, fieldDec, filter, proposalId, note',\\\n",
    "                       NSIDE = 64, DBPATH_V1_5 = dbDir):\n",
    "    #dbname =  'footprint_add_mag_cloudsv1.5_10yrs.db'\n",
    "\n",
    "    # get some data from opsim database\n",
    "    df_opsim = get_cols(dbfile=DBPATH_V1_5 + dbname, cols=COLS)\n",
    "\n",
    "    # get healpix Ids\n",
    "    df_opsim = get_pixId(df_opsim, nside=NSIDE)\n",
    "\n",
    "    # in galactic coordinates\n",
    "    df_opsim['fieldGl'], df_opsim['fieldGb'] = radec2gal(ra=df_opsim['fieldRA'].values, dec=df_opsim['fieldDec'].values)\n",
    "\n",
    "    # define the shape of galactic plane\n",
    "    peakDeg=15.\n",
    "    taperDeg=90.\n",
    "    constWidth=.5\n",
    "\n",
    "    # get the latitude of galaxy region\n",
    "    df_opsim['galaxyb'] = getAvoidanceLatitudes(df_opsim['fieldGl'].values, peakDeg, taperDeg, constWidth)\n",
    "\n",
    "    # check if a field is ingalaxy\n",
    "    df_opsim['ingalaxy'] = ( df_opsim['fieldGb'] > -df_opsim['galaxyb'] ) & ( df_opsim['fieldGb'] < df_opsim['galaxyb'] ) \n",
    "\n",
    "    # get pixId in galactic plane\n",
    "    ipix_GP = df_opsim.pixId[df_opsim.ingalaxy].unique()\n",
    "    \n",
    "    ra, dec = pix2radec(nside=64, ipix=ipix_GP)\n",
    "    slicer = slicers.UserPointsSlicer(ra, dec, latLonDeg=True, badval=0)\n",
    "\n",
    "\n",
    "    \n",
    "    return slicer\n",
    "\n",
    "\n",
    "\n"
   ]
  },
  {
   "cell_type": "code",
   "execution_count": 7,
   "metadata": {},
   "outputs": [],
   "source": [
    "def getAvoidanceLatitudes(galL, peakDeg=10., taperDeg=80., constWidth=5.):\n",
    "    \n",
    "    \"\"\"Returns the (positive) GP avoidance region for input galactic longitude\n",
    "    Input:\n",
    "        galL: in degree\n",
    "        peakDeg: galaxy peak size\n",
    "        taperDeg: half width, in degree\n",
    "        constWidth: in degree\n",
    "    return \n",
    "        val: the positive galaxy b, in degree\n",
    "    \"\"\"  \n",
    "    # The following is adapted from spatialPlotters.py in sims_maf, method _plot_mwZone\n",
    "    \n",
    "    # astropy uses 0 <= glon <= 2pi, so we shift the input values accordingly.\n",
    "    galL = np.radians(galL)\n",
    "    galL_use = np.copy(galL)\n",
    "    gSec = np.where(galL_use > np.pi)\n",
    "    galL_use[gSec] -= 2.0 * np.pi\n",
    "    \n",
    "    peakWidth=np.radians(peakDeg)\n",
    "    taperLength=np.radians(taperDeg)\n",
    "    val = peakWidth * np.cos(galL_use / taperLength * np.pi / 2.)\n",
    "    \n",
    "    # Remove the cosine peak at anticenter\n",
    "    gFar = np.where(np.abs(galL_use) > taperLength)[0]\n",
    "    val[gFar] = 0.\n",
    "\n",
    "    val += np.radians(constWidth)\n",
    "    \n",
    "    return np.rad2deg(val)"
   ]
  },
  {
   "cell_type": "code",
   "execution_count": 8,
   "metadata": {},
   "outputs": [],
   "source": [
    "#  get columns from databases\n",
    "def get_cols(dbfile, cols='night', lim=None):\n",
    "    \"\"\"\n",
    "    cols = 'night, observationStartMJD, fieldRA, fieldDec, filter, proposalId, note'\n",
    "    connect to database\n",
    "    Returns: a pandas DataFrame\n",
    "    \n",
    "    Examples:\n",
    "    \n",
    "    cols = 'night, observationStartMJD, fieldRA, filter, fieldDec, proposalId, note, '\n",
    "\n",
    "    df = get_cols(dbfile=dbpath + db, cols=cols, lim='night<300')\n",
    "   \n",
    "    \"\"\"\n",
    "    import sqlite3\n",
    "    import pandas as pd\n",
    "    connection = sqlite3.connect(dbfile)\n",
    "    cursor = connection.cursor()\n",
    "    \n",
    "    if lim!=None:\n",
    "        sqlstr = \"SELECT {} FROM SummaryAllProps where {}\".format(cols, lim)\n",
    "    else:\n",
    "        sqlstr = \"SELECT {} FROM SummaryAllProps\".format(cols)\n",
    "\n",
    "    print('connect to ', dbfile, '\\n', sqlstr)\n",
    "    cursor.execute(sqlstr)\n",
    "    data = cursor.fetchall()\n",
    "    \n",
    "    # convert data to dataframe\n",
    "    data_df = pd.DataFrame(data, columns=cols.split(', '))\n",
    "    \n",
    "    # close connection\n",
    "    connection.close()\n",
    "    \n",
    "    return data_df\n",
    "\n",
    "def get_pixId(df, nside=16):\n",
    "    '''get pixId for each field'''\n",
    "    pixId = RADec2pix(nside, ra=df['fieldRA'].values, dec=df['fieldDec'].values)\n",
    "    df['pixId'] = pixId\n",
    "    return df\n",
    "\n",
    "def pix2radec(nside, ipix, degree=True):\n",
    "    \"\"\"from ipix to ra/dec\"\"\"\n",
    "    \n",
    "    theta, phi = hp.pix2ang(nside, ipix)\n",
    "    ra = phi\n",
    "    dec = np.pi/2. - theta\n",
    "    if degree:\n",
    "        ra = np.rad2deg(ra)\n",
    "        dec = np.rad2deg(dec)\n",
    "    return ra, dec\n",
    "\n",
    "def RADec2pix(nside, ra, dec, degree=True):\n",
    "    \"\"\"\n",
    "    Calculate the nearest healpixel ID of an RA/Dec array, assuming nside.\n",
    "\n",
    "    Parameters\n",
    "    ----------\n",
    "    nside : int\n",
    "        The nside value of the healpix grid.\n",
    "    ra : numpy.ndarray\n",
    "        The RA values to be converted to healpix ids, in degree by default.\n",
    "    dec : numpy.ndarray\n",
    "        The Dec values to be converted to healpix ids, in degree by default.\n",
    "\n",
    "    Returns\n",
    "    -------\n",
    "    numpy.ndarray\n",
    "        The healpix ids.\n",
    "    \"\"\"\n",
    "    if degree:\n",
    "        ra = np.radians(ra) # change to radians\n",
    "        dec = np.radians(dec)\n",
    "    \n",
    "    lat = np.pi/2. - dec\n",
    "    hpid = hp.ang2pix(nside, lat, ra )\n",
    "    return hpid\n",
    "\n",
    "def radec2xyz(ra, dec):\n",
    "    '''convert ra/dec to xyz'''\n",
    "    theta = 0.5 * np.pi - np.deg2rad(dec)\n",
    "    phi = np.deg2rad(ra)\n",
    "    xyz = hp.ang2vec(theta, phi)\n",
    "    \n",
    "    return xyz\n",
    "\n",
    "def radec2gal(ra, dec):\n",
    "    '''convert from ra/dec to galactic l/b'''\n",
    "    from astropy.coordinates import SkyCoord\n",
    "    from astropy import units as u\n",
    "    c = SkyCoord(ra=ra, dec=dec, \n",
    "                 unit=(u.degree, u.degree))\n",
    "    \n",
    "    l = c.galactic.l.degree\n",
    "    b = c.galactic.b.degree\n",
    "    return l, b\n",
    "\n",
    "def gal2radec(gl, gb):\n",
    "    '''convert gl/gb to ra/dec'''\n",
    "    from astropy.coordinates import SkyCoord\n",
    "    from astropy import units as u\n",
    "    c = SkyCoord(l=gl, b=gb, frame=\"galactic\",\n",
    "                unit=(u.degree, u.degree))\n",
    "    ra = c.icrs.ra.degree\n",
    "    dec = c.icrs.dec.degree\n",
    "    return ra, dec\n",
    "\n",
    "\n",
    "# plot function\n",
    "# plot skymap\n",
    "\n",
    "def plot_mwd(ax, RA, Dec, c, org=0, title='Mollweide projection', projection='mollweide', vmax=None, colorbar=True, **kwargs):\n",
    "    ''' RA, Dec are arrays of the same length.\n",
    "    RA takes values in [0,360), Dec in [-90,90],\n",
    "    which represent angles in degrees.\n",
    "    org is the origin of the plot, 0 or a multiple of 30 degrees in [0,360).\n",
    "    title is the title of the figure.\n",
    "    projection is the kind of projection: 'mollweide', 'aitoff', 'hammer', 'lambert'\n",
    "    \n",
    "    Examples:\n",
    "    >>> fig, ax = plt.subplots(1, 1, figsize=(8, 8), \n",
    "                            subplot_kw={'projection': 'mollweide'}); \n",
    "        plot_mwd(ax, x, y, c, title='') \n",
    "        \n",
    "    '''\n",
    "    import numpy as np\n",
    "    import matplotlib.pyplot as plt\n",
    "\n",
    "    if vmax is None:\n",
    "        vmax = c.max()\n",
    "    \n",
    "    x = np.remainder(RA+360-org,360) # shift RA values\n",
    "    ind = x>180\n",
    "    x[ind] -=360    # scale conversion to [-180, 180]\n",
    "    x=-x    # reverse the scale: East to the left\n",
    "    tick_labels = np.array([150, 120, 90, 60, 30, 0, 330, 300, 270, 240, 210])\n",
    "    tick_labels = np.remainder(tick_labels+360+org,360)\n",
    "    # fig = plt.figure(figsize=(10, 5))\n",
    "    # ax = fig.add_subplot(111, projection=projection, facecolor ='LightCyan')\n",
    "    # ax = fig.add_subplot(111, projection=projection, facecolor ='honeydew')\n",
    "    sc = ax.scatter(np.radians(x), np.radians(Dec), c=c, marker='o', vmin=0, vmax=vmax, **kwargs)  # convert degrees to radians\n",
    "    # ax.set_xticklabels(tick_labels)     # we add the scale on the x axis\n",
    "    ax.set_title(title)\n",
    "    ax.title.set_fontsize(15)\n",
    "    ax.set_xlabel(\"RA\")\n",
    "    ax.xaxis.label.set_fontsize(12)\n",
    "    ax.set_ylabel(\"Dec\")\n",
    "    ax.yaxis.label.set_fontsize(12)\n",
    "    ax.grid(True)\n",
    "    if colorbar:\n",
    "        cbar = plt.colorbar(sc, ax=ax, orientation=\"horizontal\")\n",
    "    #cbar.set_clim(-2.0, 2.0)\n",
    "\n",
    "def plot_filter_Nv(df, coord='C', figsize= (12, 6), colorbar=True, vmax=None, **kwargs):\n",
    "    \"\"\"plot number of visits in 6 filters\"\"\"\n",
    "    \n",
    "    fig, axs = plt.subplots(2, 3, figsize=figsize,\n",
    "                            subplot_kw={'projection': 'mollweide'}); \n",
    "    axs = axs.ravel()\n",
    "    FILTERS = ['u', 'g', 'r', 'i', 'z', 'y']\n",
    "    for i, f in enumerate(FILTERS):\n",
    "        \n",
    "        df_f = df[ df['filter']==f ]\n",
    "        if coord=='G':\n",
    "            x = df_f['fieldGl'].values\n",
    "            y = df_f['fieldGb'].values       \n",
    "        else:\n",
    "            x = df_f['fieldRA'].values\n",
    "            y = df_f['fieldDec'].values\n",
    "        c = df_f['Nv'].values\n",
    "        if len(c)!=0:\n",
    "            plot_mwd(axs[i], x, y, c, title=f, colorbar=colorbar, vmax=vmax, **kwargs)\n",
    "        axs[i].set_xticklabels([])\n",
    "        axs[i].set_yticklabels([])\n",
    "        axs[i].set_title(f)\n",
    "\n",
    "\n"
   ]
  },
  {
   "cell_type": "code",
   "execution_count": null,
   "metadata": {},
   "outputs": [],
   "source": []
  },
  {
   "cell_type": "code",
   "execution_count": null,
   "metadata": {},
   "outputs": [],
   "source": []
  },
  {
   "cell_type": "code",
   "execution_count": null,
   "metadata": {},
   "outputs": [],
   "source": []
  }
 ],
 "metadata": {
  "kernelspec": {
   "display_name": "Python 3",
   "language": "python",
   "name": "python3"
  },
  "language_info": {
   "codemirror_mode": {
    "name": "ipython",
    "version": 3
   },
   "file_extension": ".py",
   "mimetype": "text/x-python",
   "name": "python",
   "nbconvert_exporter": "python",
   "pygments_lexer": "ipython3",
   "version": "3.7.2"
  }
 },
 "nbformat": 4,
 "nbformat_minor": 4
}
