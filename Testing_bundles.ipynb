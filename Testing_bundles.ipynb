{
 "cells": [
  {
   "cell_type": "code",
   "execution_count": 2,
   "metadata": {},
   "outputs": [
    {
     "name": "stdout",
     "output_type": "stream",
     "text": [
      "/home/idies/workspace/Storage/somayeh91/persistent/Rubin_Microlensing_metrics\n"
     ]
    }
   ],
   "source": [
    "your_username = 'somayeh91'\n",
    "\n",
    "\n",
    "# import matplotlib to show plots inline.\n",
    "%matplotlib inline\n",
    "import matplotlib.pyplot as plt\n",
    "import pandas as pd\n",
    "import numpy as np\n",
    "import glob\n",
    "import os\n",
    "import sys\n",
    "\n",
    "# sys.path.append('/home/idies/Storage/'+your_usernamer+'/persistent/sims_maf_contrib/')\n",
    "# import lsst.sim.maf moduels modules\n",
    "import lsst.sims.maf.db as db\n",
    "import lsst.sims.maf.metrics as metrics\n",
    "import lsst.sims.maf.slicers as slicers\n",
    "import lsst.sims.maf.stackers as stackers\n",
    "import lsst.sims.maf.plots as plots\n",
    "import lsst.sims.maf.metricBundles as metricBundles\n",
    "print(os.getcwd())\n",
    "# import convenience functions\n",
    "from opsimUtils import *\n",
    "\n",
    "dbDir = '/home/idies/workspace/lsst_cadence/FBS_1.5/'\n",
    "outDir = '/home/idies/workspace/Storage/{}/persistent/MAFOutput/db_results_11_15_2020/'.format(your_username)\n",
    "\n",
    "resultsDb = db.ResultsDb(outDir=outDir)\n",
    "if not os.path.exists(os.path.abspath(outDir)):\n",
    "    os.mkdir(os.path.abspath(outDir))\n",
    "    \n",
    "opSimDbs, resultDbs = connect_dbs(dbDir, outDir)"
   ]
  },
  {
   "cell_type": "code",
   "execution_count": 7,
   "metadata": {},
   "outputs": [],
   "source": [
    "# !pip install sympy"
   ]
  },
  {
   "cell_type": "code",
   "execution_count": 3,
   "metadata": {},
   "outputs": [],
   "source": [
    "import glob \n",
    "\n",
    "dbruns_selected = glob.glob(dbDir+\"footprint*\")\n",
    "dbruns_selected.sort()"
   ]
  },
  {
   "cell_type": "code",
   "execution_count": 14,
   "metadata": {},
   "outputs": [
    {
     "data": {
      "text/plain": [
       "['/home/idies/workspace/lsst_cadence/FBS_1.5/footprint_add_mag_cloudsv1.5_10yrs.db',\n",
       " '/home/idies/workspace/lsst_cadence/FBS_1.5/footprint_big_sky_dustv1.5_10yrs.db',\n",
       " '/home/idies/workspace/lsst_cadence/FBS_1.5/footprint_big_sky_nouiyv1.5_10yrs.db',\n",
       " '/home/idies/workspace/lsst_cadence/FBS_1.5/footprint_big_skyv1.5_10yrs.db',\n",
       " '/home/idies/workspace/lsst_cadence/FBS_1.5/footprint_big_wfdv1.5_10yrs.db',\n",
       " '/home/idies/workspace/lsst_cadence/FBS_1.5/footprint_bluer_footprintv1.5_10yrs.db',\n",
       " '/home/idies/workspace/lsst_cadence/FBS_1.5/footprint_gp_smoothv1.5_10yrs.db',\n",
       " '/home/idies/workspace/lsst_cadence/FBS_1.5/footprint_newAv1.5_10yrs.db',\n",
       " '/home/idies/workspace/lsst_cadence/FBS_1.5/footprint_newBv1.5_10yrs.db',\n",
       " '/home/idies/workspace/lsst_cadence/FBS_1.5/footprint_no_gp_northv1.5_10yrs.db',\n",
       " '/home/idies/workspace/lsst_cadence/FBS_1.5/footprint_standard_goalsv1.5_10yrs.db',\n",
       " '/home/idies/workspace/lsst_cadence/FBS_1.5/footprint_stuck_rollingv1.5_10yrs.db']"
      ]
     },
     "execution_count": 14,
     "metadata": {},
     "output_type": "execute_result"
    }
   ],
   "source": [
    "dbruns_selected"
   ]
  },
  {
   "cell_type": "code",
   "execution_count": 5,
   "metadata": {},
   "outputs": [],
   "source": [
    "# pip install sympy"
   ]
  },
  {
   "cell_type": "code",
   "execution_count": 6,
   "metadata": {},
   "outputs": [],
   "source": [
    "# WFIRST_OW = [['2025-04-25', '2025-07-07'],['2026-04-25', '2026-07-07'],['2025-04-25', '2026-07-07']]"
   ]
  },
  {
   "cell_type": "code",
   "execution_count": 10,
   "metadata": {},
   "outputs": [],
   "source": [
    "LSST_filters = [\"g\",\"i\",\"z\"]#,\"g\",\"r\",\"i\",\"z\"]\n",
    "import sys\n",
    "sys.path.insert(0, '../sims_maf_contrib/')\n",
    "\n",
    "summaryMetrics = [metrics.MedianMetric(), metrics.MeanMetric(), metrics.MinMetric(), metrics.MaxMetric(), metrics.RmsMetric(),\\\n",
    "                 metrics.SumMetric(), metrics.CountMetric()]\n",
    "\n",
    "from mafContrib import StarCountMetric,CampaignLengthMetric, numObsInSurveyTimeOverlapMetric, IntervalsBetweenObsMetric\n",
    "# sys.path.insert(0, '../sims_maf_contrib/mafContrib')\n",
    "# from numObsInSurveyTimeOverlapMetric import numObsInSurveyTimeOverlapMetric\n",
    "starcount= StarCountMetric()\n",
    "campaign =  CampaignLengthMetric()\n",
    "# numobs = numObsInSurveyTimeOverlapMetric(WFIRST_OW)\n",
    "# intervalObs = IntervalsBetweenObsMetric(WFIRST_OW, Stat = 'median')\n",
    "cadence = metrics.cadenceMetrics.NRevisitsMetric()\n",
    "uniformity = metrics.UniformityMetric()\n",
    "#List of metrics\n",
    "\n",
    "Microlensing_metrics = [ starcount, campaign, cadence, uniformity]\n",
    "\n",
    "names_metric = ['starcount','campaignlength','nrevisits', 'uniformity']\n",
    "# names_metric = ['campaignlength','nrevisits', 'uniformity']\n",
    "\n"
   ]
  },
  {
   "cell_type": "code",
   "execution_count": 11,
   "metadata": {},
   "outputs": [
    {
     "name": "stdout",
     "output_type": "stream",
     "text": [
      "Healpix slicer using NSIDE=64, approximate resolution 54.967783 arcminutes\n",
      "filter = \"g\"\n",
      "filter = \"i\"\n",
      "filter = \"z\"\n"
     ]
    }
   ],
   "source": [
    "#Slicer\n",
    "slicer1 = slicers.HealpixSlicer(nside=64)\n",
    "\n",
    "\n",
    "#List of bundles\n",
    "Microlensing_bundles = []\n",
    "Names_metric = []\n",
    "for ind_fil,fil in enumerate(LSST_filters):\n",
    "    \n",
    "    if fil == 'u':\n",
    "        continue\n",
    "    \n",
    "    constraint1 = 'filter = \"'+fil+'\"'\n",
    "    print(constraint1)\n",
    "    for ind_met,metri in enumerate(Microlensing_metrics):\n",
    "        \n",
    "        microlensing_metric = metricBundles.MetricBundle(metri, slicer1, constraint1, summaryMetrics=summaryMetrics)\n",
    "        Microlensing_bundles.append(microlensing_metric)\n",
    "        Names_metric.append(names_metric[ind_met]+'_'+fil)"
   ]
  },
  {
   "cell_type": "code",
   "execution_count": 15,
   "metadata": {},
   "outputs": [],
   "source": [
    "\n",
    "# create a bundleDict for all metrics to run on each opSim\n",
    "bundleDict = {Names_metric[i]:Microlensing_bundles[i] for i in range(len(Names_metric))}\n",
    "metricDataPath = '/home/idies/workspace/Storage/{}/persistent/MAFOutput/metric_data_11_15_2020/'.format(your_username)"
   ]
  },
  {
   "cell_type": "code",
   "execution_count": null,
   "metadata": {},
   "outputs": [
    {
     "name": "stdout",
     "output_type": "stream",
     "text": [
      "/home/idies/workspace/lsst_cadence/FBS_1.5/footprint_bluer_footprintv1.5_10yrs.db\n",
      "Querying database SummaryAllProps with constraint filter = \"z\" for columns ['fieldRA', 'fieldDec', 'observationStartMJD']\n",
      "Found 352241 visits\n",
      "Running:  ['starcount_z', 'campaignlength_z', 'nrevisits_z', 'uniformity_z']\n",
      "Completed metric generation.\n",
      "Running reduce methods.\n",
      "Running summary statistics.\n",
      "Completed.\n",
      "Querying database SummaryAllProps with constraint filter = \"i\" for columns ['fieldRA', 'fieldDec', 'observationStartMJD']\n",
      "Found 483713 visits\n",
      "Running:  ['starcount_i', 'campaignlength_i', 'nrevisits_i', 'uniformity_i']\n",
      "Completed metric generation.\n",
      "Running reduce methods.\n",
      "Running summary statistics.\n",
      "Completed.\n",
      "Querying database SummaryAllProps with constraint filter = \"g\" for columns ['fieldRA', 'fieldDec', 'observationStartMJD']\n",
      "Found 400012 visits\n",
      "Running:  ['starcount_g', 'campaignlength_g', 'nrevisits_g', 'uniformity_g']\n",
      "Completed metric generation.\n",
      "Running reduce methods.\n",
      "Running summary statistics.\n",
      "Completed.\n",
      "/home/idies/workspace/lsst_cadence/FBS_1.5/footprint_gp_smoothv1.5_10yrs.db\n",
      "Querying database SummaryAllProps with constraint filter = \"z\" for columns ['fieldRA', 'fieldDec', 'observationStartMJD']\n",
      "Found 432606 visits\n",
      "Running:  ['starcount_z', 'campaignlength_z', 'nrevisits_z', 'uniformity_z']\n",
      "Completed metric generation.\n",
      "Running reduce methods.\n",
      "Running summary statistics.\n",
      "Completed.\n",
      "Querying database SummaryAllProps with constraint filter = \"i\" for columns ['fieldRA', 'fieldDec', 'observationStartMJD']\n",
      "Found 496386 visits\n",
      "Running:  ['starcount_i', 'campaignlength_i', 'nrevisits_i', 'uniformity_i']\n",
      "Completed metric generation.\n",
      "Running reduce methods.\n",
      "Running summary statistics.\n",
      "Completed.\n",
      "Querying database SummaryAllProps with constraint filter = \"g\" for columns ['fieldRA', 'fieldDec', 'observationStartMJD']\n",
      "Found 221626 visits\n",
      "Running:  ['starcount_g', 'campaignlength_g', 'nrevisits_g', 'uniformity_g']\n",
      "Completed metric generation.\n",
      "Running reduce methods.\n",
      "Running summary statistics.\n",
      "Completed.\n",
      "/home/idies/workspace/lsst_cadence/FBS_1.5/footprint_newAv1.5_10yrs.db\n",
      "Querying database SummaryAllProps with constraint filter = \"z\" for columns ['fieldRA', 'fieldDec', 'observationStartMJD']\n",
      "Found 411687 visits\n",
      "Running:  ['starcount_z', 'campaignlength_z', 'nrevisits_z', 'uniformity_z']\n"
     ]
    }
   ],
   "source": [
    "# metricDataPath = '/home/idies/workspace/Storage/{}/persistent/MAFOutput/output_10_26_2020/'.format(your_username)\n",
    "\n",
    "# below I am only going to run metrics on the first five opsims\n",
    "for run in dbruns_selected[5:]:\n",
    "    print (run)\n",
    "    run_name = run.split('1.5/')[1].split('.d')[0]\n",
    "    \n",
    "    # must set run name for each opSim to store metric data into\n",
    "    # separate files\n",
    "#     numobs.setRunName(run_name)\n",
    "#     intervalObs.setRunName(run_name)\n",
    "#     starcount.setRunName(run_name)\n",
    "#     campaignlength.setRunName(run_name)\n",
    "#     nrevisits.setRunName(run_name)\n",
    "#     uniformity.setRunName(run_name)\n",
    "    metricGroup = metricBundles.MetricBundleGroup(bundleDict,\\\n",
    "                    opSimDbs[run_name], metricDataPath, resultDbs[run_name])\n",
    "    metricGroup.runAll()"
   ]
  },
  {
   "cell_type": "code",
   "execution_count": null,
   "metadata": {},
   "outputs": [],
   "source": []
  }
 ],
 "metadata": {
  "kernelspec": {
   "display_name": "Python 3",
   "language": "python",
   "name": "python3"
  },
  "language_info": {
   "codemirror_mode": {
    "name": "ipython",
    "version": 3
   },
   "file_extension": ".py",
   "mimetype": "text/x-python",
   "name": "python",
   "nbconvert_exporter": "python",
   "pygments_lexer": "ipython3",
   "version": "3.7.2"
  }
 },
 "nbformat": 4,
 "nbformat_minor": 4
}
