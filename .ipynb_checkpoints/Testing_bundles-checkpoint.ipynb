{
 "cells": [
  {
   "cell_type": "code",
   "execution_count": 12,
   "metadata": {},
   "outputs": [
    {
     "name": "stdout",
     "output_type": "stream",
     "text": [
      "/home/idies/workspace/Storage/somayeh91/persistent/Added Codes\n"
     ]
    }
   ],
   "source": [
    "your_username = 'somayeh91'\n",
    "\n",
    "\n",
    "# import matplotlib to show plots inline.\n",
    "%matplotlib inline\n",
    "import matplotlib.pyplot as plt\n",
    "import pandas as pd\n",
    "import numpy as np\n",
    "import glob\n",
    "import os\n",
    "import sys\n",
    "\n",
    "# sys.path.append('/home/idies/Storage/'+your_usernamer+'/persistent/sims_maf_contrib/')\n",
    "# import lsst.sim.maf moduels modules\n",
    "import lsst.sims.maf.db as db\n",
    "import lsst.sims.maf.metrics as metrics\n",
    "import lsst.sims.maf.slicers as slicers\n",
    "import lsst.sims.maf.stackers as stackers\n",
    "import lsst.sims.maf.plots as plots\n",
    "import lsst.sims.maf.metricBundles as metricBundles\n",
    "print(os.getcwd())\n",
    "# import convenience functions\n",
    "from opsimUtils import *\n",
    "\n",
    "dbDir = '/home/idies/workspace/lsst_cadence/FBS_1.5/'\n",
    "outDir = '/home/idies/workspace/Storage/{}/persistent/MAFOutput/db_results_10_26_2020/'.format(your_username)\n",
    "\n",
    "resultsDb = db.ResultsDb(outDir=outDir)\n",
    "if not os.path.exists(os.path.abspath(outDir)):\n",
    "    os.mkdir(os.path.abspath(outDir))\n",
    "    \n",
    "opSimDbs, resultDbs = connect_dbs(dbDir, outDir)\n"
   ]
  },
  {
   "cell_type": "code",
   "execution_count": 13,
   "metadata": {},
   "outputs": [
    {
     "data": {
      "text/plain": [
       "<lsst.sims.maf.db.opsimDatabase.OpsimDatabaseFBS at 0x7f98cebbce48>"
      ]
     },
     "execution_count": 13,
     "metadata": {},
     "output_type": "execute_result"
    }
   ],
   "source": [
    "opSimDbs['footprint_add_mag_cloudsv1.5_10yrs']"
   ]
  },
  {
   "cell_type": "code",
   "execution_count": 14,
   "metadata": {},
   "outputs": [],
   "source": [
    "import glob \n",
    "\n",
    "dbruns_selected = glob.glob(dbDir+\"bulges_*\")\n",
    "dbruns_selected.sort()"
   ]
  },
  {
   "cell_type": "code",
   "execution_count": 16,
   "metadata": {},
   "outputs": [
    {
     "data": {
      "text/plain": [
       "['/home/idies/workspace/lsst_cadence/FBS_1.5/bulges_bs_v1.5_10yrs.db',\n",
       " '/home/idies/workspace/lsst_cadence/FBS_1.5/bulges_bulge_wfd_v1.5_10yrs.db',\n",
       " '/home/idies/workspace/lsst_cadence/FBS_1.5/bulges_cadence_bs_v1.5_10yrs.db',\n",
       " '/home/idies/workspace/lsst_cadence/FBS_1.5/bulges_cadence_bulge_wfd_v1.5_10yrs.db',\n",
       " '/home/idies/workspace/lsst_cadence/FBS_1.5/bulges_cadence_i_heavy_v1.5_10yrs.db',\n",
       " '/home/idies/workspace/lsst_cadence/FBS_1.5/bulges_i_heavy_v1.5_10yrs.db']"
      ]
     },
     "execution_count": 16,
     "metadata": {},
     "output_type": "execute_result"
    }
   ],
   "source": [
    "dbruns_selected"
   ]
  },
  {
   "cell_type": "code",
   "execution_count": 5,
   "metadata": {},
   "outputs": [],
   "source": [
    "# pip install sympy"
   ]
  },
  {
   "cell_type": "code",
   "execution_count": 6,
   "metadata": {},
   "outputs": [],
   "source": [
    "WFIRST_OW = [['2025-04-25', '2025-07-07'],['2026-04-25', '2026-07-07'],['2025-04-25', '2026-07-07']]"
   ]
  },
  {
   "cell_type": "code",
   "execution_count": 7,
   "metadata": {},
   "outputs": [
    {
     "name": "stderr",
     "output_type": "stream",
     "text": [
      "/home/idies/lsst/python/miniconda3-4.7.10/envs/lsst-scipipe-4d7b902/lib/python3.7/site-packages/astropy/extern/six.py:15: AstropyDeprecationWarning: astropy.extern.six will be removed in 4.0, use the six module directly if it is still needed\n",
      "  AstropyDeprecationWarning)\n",
      "../sims_maf_contrib/mafContrib/LSSObsStrategy/artificialStructureCalculation.py:45: UserWarning: sympy not installed\n",
      "  warnings.warn('sympy not installed')\n"
     ]
    }
   ],
   "source": [
    "LSST_filters = [\"u\",\"g\",\"r\",\"i\",\"z\"]\n",
    "import sys\n",
    "sys.path.insert(0, '../sims_maf_contrib/')\n",
    "from mafContrib import StarCountMetric,CampaignLengthMetric, numObsInSurveyTimeOverlapMetric\n",
    "# sys.path.insert(0, '../sims_maf_contrib/mafContrib')\n",
    "# from numObsInSurveyTimeOverlapMetric import numObsInSurveyTimeOverlapMetric\n",
    "starcount= StarCountMetric()\n",
    "campaign =  CampaignLengthMetric()\n",
    "# numobs = numObsInSurveyTimeOverlapMetric(WFIRST_OW)\n",
    "cadence = metrics.cadenceMetrics.NRevisitsMetric()\n",
    "uniformity = metrics.UniformityMetric()\n",
    "#List of metrics\n",
    "\n",
    "Microlensing_metrics = [starcount, campaign, cadence, uniformity]\n",
    "\n",
    "#names_metric = ['starcount','uniformity','campaignlength','numobsinsurvey','nrevisits']\n",
    "names_metric = ['starcount','campaignlength','nrevisits', 'uniformity']\n"
   ]
  },
  {
   "cell_type": "code",
   "execution_count": 8,
   "metadata": {},
   "outputs": [
    {
     "name": "stdout",
     "output_type": "stream",
     "text": [
      "Healpix slicer using NSIDE=64, approximate resolution 54.967783 arcminutes\n",
      "filter = \"g\"\n",
      "filter = \"r\"\n",
      "filter = \"i\"\n",
      "filter = \"z\"\n"
     ]
    }
   ],
   "source": [
    "#Slicer\n",
    "slicer1 = slicers.HealpixSlicer(nside=64)\n",
    "\n",
    "\n",
    "#List of bundles\n",
    "Microlensing_bundles = []\n",
    "Names_metric = []\n",
    "for ind_fil,fil in enumerate(LSST_filters):\n",
    "    \n",
    "    if fil == 'u':\n",
    "        continue\n",
    "    \n",
    "    constraint1 = 'filter = \"'+fil+'\"'\n",
    "    print(constraint1)\n",
    "    for ind_met,metri in enumerate(Microlensing_metrics):\n",
    "        \n",
    "       microlensing_metric = metricBundles.MetricBundle(metri, slicer1, constraint1)\n",
    "       Microlensing_bundles.append(microlensing_metric)\n",
    "       Names_metric.append(names_metric[ind_met]+'_'+fil)"
   ]
  },
  {
   "cell_type": "code",
   "execution_count": 9,
   "metadata": {},
   "outputs": [],
   "source": [
    "\n",
    "# create a bundleDict for all metrics to run on each opSim\n",
    "bundleDict = {Names_metric[i]:Microlensing_bundles[i] for i in range(len(Names_metric))}\n",
    "metricDataPath = '/home/idies/workspace/Storage/{}/persistent/MAFOutput/metric_data_10_26_2020/'.format(your_username)\n"
   ]
  },
  {
   "cell_type": "code",
   "execution_count": 10,
   "metadata": {},
   "outputs": [
    {
     "data": {
      "text/plain": [
       "['/home/idies/workspace/lsst_cadence/FBS_1.5/footprint_add_mag_cloudsv1.5_10yrs.db',\n",
       " '/home/idies/workspace/lsst_cadence/FBS_1.5/footprint_big_sky_dustv1.5_10yrs.db']"
      ]
     },
     "execution_count": 10,
     "metadata": {},
     "output_type": "execute_result"
    }
   ],
   "source": [
    "dbruns_selected[:2]"
   ]
  },
  {
   "cell_type": "code",
   "execution_count": 11,
   "metadata": {},
   "outputs": [
    {
     "name": "stdout",
     "output_type": "stream",
     "text": [
      "/home/idies/workspace/lsst_cadence/FBS_1.5/footprint_add_mag_cloudsv1.5_10yrs.db\n",
      "Querying database SummaryAllProps with constraint filter = \"i\" for columns ['fieldDec', 'observationStartMJD', 'fieldRA']\n",
      "Found 495454 visits\n",
      "Running:  ['starcount_i', 'campaignlength_i', 'numobs_i', 'nrevisits_i', 'uniformity_i']\n"
     ]
    },
    {
     "name": "stderr",
     "output_type": "stream",
     "text": [
      "/home/idies/lsst/python/miniconda3-4.7.10/envs/lsst-scipipe-4d7b902/lib/python3.7/site-packages/astropy/_erfa/core.py:107: ErfaWarning: ERFA function \"dtf2d\" yielded 1 of \"dubious year (Note 6)\"\n",
      "  warnings.warn('ERFA function \"' + func_name + '\" yielded ' + wmsg, ErfaWarning)\n"
     ]
    },
    {
     "name": "stdout",
     "output_type": "stream",
     "text": [
      "Completed metric generation.\n",
      "Running reduce methods.\n",
      "Running summary statistics.\n",
      "Completed.\n",
      "Querying database SummaryAllProps with constraint filter = \"g\" for columns ['fieldDec', 'observationStartMJD', 'fieldRA']\n",
      "Found 222957 visits\n",
      "Running:  ['starcount_g', 'campaignlength_g', 'numobs_g', 'nrevisits_g', 'uniformity_g']\n",
      "Completed metric generation.\n",
      "Running reduce methods.\n",
      "Running summary statistics.\n",
      "Completed.\n",
      "Querying database SummaryAllProps with constraint filter = \"r\" for columns ['fieldDec', 'observationStartMJD', 'fieldRA']\n",
      "Found 492149 visits\n",
      "Running:  ['starcount_r', 'campaignlength_r', 'numobs_r', 'nrevisits_r', 'uniformity_r']\n",
      "Completed metric generation.\n",
      "Running reduce methods.\n",
      "Running summary statistics.\n",
      "Completed.\n",
      "Querying database SummaryAllProps with constraint filter = \"z\" for columns ['fieldDec', 'observationStartMJD', 'fieldRA']\n",
      "Found 433397 visits\n",
      "Running:  ['starcount_z', 'campaignlength_z', 'numobs_z', 'nrevisits_z', 'uniformity_z']\n",
      "Completed metric generation.\n",
      "Running reduce methods.\n",
      "Running summary statistics.\n",
      "Completed.\n",
      "/home/idies/workspace/lsst_cadence/FBS_1.5/footprint_big_sky_dustv1.5_10yrs.db\n",
      "Querying database SummaryAllProps with constraint filter = \"i\" for columns ['fieldDec', 'observationStartMJD', 'fieldRA']\n",
      "Found 486031 visits\n",
      "Running:  ['starcount_i', 'campaignlength_i', 'numobs_i', 'nrevisits_i', 'uniformity_i']\n",
      "Completed metric generation.\n",
      "Running reduce methods.\n",
      "Running summary statistics.\n",
      "Completed.\n",
      "Querying database SummaryAllProps with constraint filter = \"g\" for columns ['fieldDec', 'observationStartMJD', 'fieldRA']\n",
      "Found 214853 visits\n",
      "Running:  ['starcount_g', 'campaignlength_g', 'numobs_g', 'nrevisits_g', 'uniformity_g']\n",
      "Completed metric generation.\n",
      "Running reduce methods.\n",
      "Running summary statistics.\n",
      "Completed.\n",
      "Querying database SummaryAllProps with constraint filter = \"r\" for columns ['fieldDec', 'observationStartMJD', 'fieldRA']\n",
      "Found 483203 visits\n",
      "Running:  ['starcount_r', 'campaignlength_r', 'numobs_r', 'nrevisits_r', 'uniformity_r']\n",
      "Completed metric generation.\n",
      "Running reduce methods.\n",
      "Running summary statistics.\n",
      "Completed.\n",
      "Querying database SummaryAllProps with constraint filter = \"z\" for columns ['fieldDec', 'observationStartMJD', 'fieldRA']\n",
      "Found 426850 visits\n",
      "Running:  ['starcount_z', 'campaignlength_z', 'numobs_z', 'nrevisits_z', 'uniformity_z']\n",
      "Completed metric generation.\n",
      "Running reduce methods.\n",
      "Running summary statistics.\n",
      "Completed.\n",
      "/home/idies/workspace/lsst_cadence/FBS_1.5/footprint_big_sky_nouiyv1.5_10yrs.db\n",
      "Querying database SummaryAllProps with constraint filter = \"i\" for columns ['fieldDec', 'observationStartMJD', 'fieldRA']\n",
      "Found 470805 visits\n",
      "Running:  ['starcount_i', 'campaignlength_i', 'numobs_i', 'nrevisits_i', 'uniformity_i']\n",
      "Completed metric generation.\n",
      "Running reduce methods.\n",
      "Running summary statistics.\n",
      "Completed.\n",
      "Querying database SummaryAllProps with constraint filter = \"g\" for columns ['fieldDec', 'observationStartMJD', 'fieldRA']\n",
      "Found 231027 visits\n",
      "Running:  ['starcount_g', 'campaignlength_g', 'numobs_g', 'nrevisits_g', 'uniformity_g']\n",
      "Completed metric generation.\n",
      "Running reduce methods.\n",
      "Running summary statistics.\n",
      "Completed.\n",
      "Querying database SummaryAllProps with constraint filter = \"r\" for columns ['fieldDec', 'observationStartMJD', 'fieldRA']\n",
      "Found 505925 visits\n",
      "Running:  ['starcount_r', 'campaignlength_r', 'numobs_r', 'nrevisits_r', 'uniformity_r']\n",
      "Completed metric generation.\n",
      "Running reduce methods.\n",
      "Running summary statistics.\n",
      "Completed.\n",
      "Querying database SummaryAllProps with constraint filter = \"z\" for columns ['fieldDec', 'observationStartMJD', 'fieldRA']\n",
      "Found 448031 visits\n",
      "Running:  ['starcount_z', 'campaignlength_z', 'numobs_z', 'nrevisits_z', 'uniformity_z']\n",
      "Completed metric generation.\n",
      "Running reduce methods.\n",
      "Running summary statistics.\n",
      "Completed.\n",
      "/home/idies/workspace/lsst_cadence/FBS_1.5/footprint_big_skyv1.5_10yrs.db\n",
      "Querying database SummaryAllProps with constraint filter = \"i\" for columns ['fieldDec', 'observationStartMJD', 'fieldRA']\n",
      "Found 504056 visits\n",
      "Running:  ['starcount_i', 'campaignlength_i', 'numobs_i', 'nrevisits_i', 'uniformity_i']\n"
     ]
    },
    {
     "ename": "KeyboardInterrupt",
     "evalue": "",
     "output_type": "error",
     "traceback": [
      "\u001b[0;31m\u001b[0m",
      "\u001b[0;31mKeyboardInterrupt\u001b[0mTraceback (most recent call last)",
      "\u001b[0;32m<ipython-input-11-6313d3e37160>\u001b[0m in \u001b[0;36m<module>\u001b[0;34m\u001b[0m\n\u001b[1;32m     14\u001b[0m     metricGroup = metricBundles.MetricBundleGroup(bundleDict,\\\n\u001b[1;32m     15\u001b[0m                     opSimDbs[run_name], metricDataPath, resultDbs[run_name])\n\u001b[0;32m---> 16\u001b[0;31m     \u001b[0mmetricGroup\u001b[0m\u001b[0;34m.\u001b[0m\u001b[0mrunAll\u001b[0m\u001b[0;34m(\u001b[0m\u001b[0;34m)\u001b[0m\u001b[0;34m\u001b[0m\u001b[0;34m\u001b[0m\u001b[0m\n\u001b[0m",
      "\u001b[0;32m~/lsst/stack/miniconda3-4.7.10-4d7b902/Linux64/sims_maf/2.13.0.sims-24-gbe21ed04+1/python/lsst/sims/maf/metricBundles/metricBundleGroup.py\u001b[0m in \u001b[0;36mrunAll\u001b[0;34m(self, clearMemory, plotNow, plotKwargs)\u001b[0m\n\u001b[1;32m    240\u001b[0m             \u001b[0mself\u001b[0m\u001b[0;34m.\u001b[0m\u001b[0msetCurrent\u001b[0m\u001b[0;34m(\u001b[0m\u001b[0mconstraint\u001b[0m\u001b[0;34m)\u001b[0m\u001b[0;34m\u001b[0m\u001b[0;34m\u001b[0m\u001b[0m\n\u001b[1;32m    241\u001b[0m             self.runCurrent(constraint, clearMemory=clearMemory,\n\u001b[0;32m--> 242\u001b[0;31m                             plotNow=plotNow, plotKwargs=plotKwargs)\n\u001b[0m\u001b[1;32m    243\u001b[0m \u001b[0;34m\u001b[0m\u001b[0m\n\u001b[1;32m    244\u001b[0m     \u001b[0;32mdef\u001b[0m \u001b[0msetCurrent\u001b[0m\u001b[0;34m(\u001b[0m\u001b[0mself\u001b[0m\u001b[0;34m,\u001b[0m \u001b[0mconstraint\u001b[0m\u001b[0;34m)\u001b[0m\u001b[0;34m:\u001b[0m\u001b[0;34m\u001b[0m\u001b[0;34m\u001b[0m\u001b[0m\n",
      "\u001b[0;32m~/lsst/stack/miniconda3-4.7.10-4d7b902/Linux64/sims_maf/2.13.0.sims-24-gbe21ed04+1/python/lsst/sims/maf/metricBundles/metricBundleGroup.py\u001b[0m in \u001b[0;36mrunCurrent\u001b[0;34m(self, constraint, simData, clearMemory, plotNow, plotKwargs)\u001b[0m\n\u001b[1;32m    318\u001b[0m             \u001b[0;32mif\u001b[0m \u001b[0mself\u001b[0m\u001b[0;34m.\u001b[0m\u001b[0mverbose\u001b[0m\u001b[0;34m:\u001b[0m\u001b[0;34m\u001b[0m\u001b[0;34m\u001b[0m\u001b[0m\n\u001b[1;32m    319\u001b[0m                 \u001b[0mprint\u001b[0m\u001b[0;34m(\u001b[0m\u001b[0;34m'Running: '\u001b[0m\u001b[0;34m,\u001b[0m \u001b[0mcompatibleList\u001b[0m\u001b[0;34m)\u001b[0m\u001b[0;34m\u001b[0m\u001b[0;34m\u001b[0m\u001b[0m\n\u001b[0;32m--> 320\u001b[0;31m             \u001b[0mself\u001b[0m\u001b[0;34m.\u001b[0m\u001b[0m_runCompatible\u001b[0m\u001b[0;34m(\u001b[0m\u001b[0mcompatibleList\u001b[0m\u001b[0;34m)\u001b[0m\u001b[0;34m\u001b[0m\u001b[0;34m\u001b[0m\u001b[0m\n\u001b[0m\u001b[1;32m    321\u001b[0m             \u001b[0;32mif\u001b[0m \u001b[0mself\u001b[0m\u001b[0;34m.\u001b[0m\u001b[0mverbose\u001b[0m\u001b[0;34m:\u001b[0m\u001b[0;34m\u001b[0m\u001b[0;34m\u001b[0m\u001b[0m\n\u001b[1;32m    322\u001b[0m                 \u001b[0mprint\u001b[0m\u001b[0;34m(\u001b[0m\u001b[0;34m'Completed metric generation.'\u001b[0m\u001b[0;34m)\u001b[0m\u001b[0;34m\u001b[0m\u001b[0;34m\u001b[0m\u001b[0m\n",
      "\u001b[0;32m~/lsst/stack/miniconda3-4.7.10-4d7b902/Linux64/sims_maf/2.13.0.sims-24-gbe21ed04+1/python/lsst/sims/maf/metricBundles/metricBundleGroup.py\u001b[0m in \u001b[0;36m_runCompatible\u001b[0;34m(self, compatibleList)\u001b[0m\n\u001b[1;32m    476\u001b[0m                             \u001b[0mb\u001b[0m\u001b[0;34m.\u001b[0m\u001b[0mmetricValues\u001b[0m\u001b[0;34m.\u001b[0m\u001b[0mdata\u001b[0m\u001b[0;34m[\u001b[0m\u001b[0mi\u001b[0m\u001b[0;34m]\u001b[0m \u001b[0;34m=\u001b[0m \u001b[0mb\u001b[0m\u001b[0;34m.\u001b[0m\u001b[0mmetricValues\u001b[0m\u001b[0;34m.\u001b[0m\u001b[0mdata\u001b[0m\u001b[0;34m[\u001b[0m\u001b[0mcacheDict\u001b[0m\u001b[0;34m[\u001b[0m\u001b[0mcacheKey\u001b[0m\u001b[0;34m]\u001b[0m\u001b[0;34m]\u001b[0m\u001b[0;34m\u001b[0m\u001b[0;34m\u001b[0m\u001b[0m\n\u001b[1;32m    477\u001b[0m                         \u001b[0;32melse\u001b[0m\u001b[0;34m:\u001b[0m\u001b[0;34m\u001b[0m\u001b[0;34m\u001b[0m\u001b[0m\n\u001b[0;32m--> 478\u001b[0;31m                             \u001b[0mb\u001b[0m\u001b[0;34m.\u001b[0m\u001b[0mmetricValues\u001b[0m\u001b[0;34m.\u001b[0m\u001b[0mdata\u001b[0m\u001b[0;34m[\u001b[0m\u001b[0mi\u001b[0m\u001b[0;34m]\u001b[0m \u001b[0;34m=\u001b[0m \u001b[0mb\u001b[0m\u001b[0;34m.\u001b[0m\u001b[0mmetric\u001b[0m\u001b[0;34m.\u001b[0m\u001b[0mrun\u001b[0m\u001b[0;34m(\u001b[0m\u001b[0mslicedata\u001b[0m\u001b[0;34m,\u001b[0m \u001b[0mslicePoint\u001b[0m\u001b[0;34m=\u001b[0m\u001b[0mslice_i\u001b[0m\u001b[0;34m[\u001b[0m\u001b[0;34m'slicePoint'\u001b[0m\u001b[0;34m]\u001b[0m\u001b[0;34m)\u001b[0m\u001b[0;34m\u001b[0m\u001b[0;34m\u001b[0m\u001b[0m\n\u001b[0m\u001b[1;32m    479\u001b[0m                     \u001b[0;31m# If we are above the cache size, drop the oldest element from the cache dict.\u001b[0m\u001b[0;34m\u001b[0m\u001b[0;34m\u001b[0m\u001b[0;34m\u001b[0m\u001b[0m\n\u001b[1;32m    480\u001b[0m                     \u001b[0;32mif\u001b[0m \u001b[0mlen\u001b[0m\u001b[0;34m(\u001b[0m\u001b[0mcacheDict\u001b[0m\u001b[0;34m)\u001b[0m \u001b[0;34m>\u001b[0m \u001b[0mslicer\u001b[0m\u001b[0;34m.\u001b[0m\u001b[0mcacheSize\u001b[0m\u001b[0;34m:\u001b[0m\u001b[0;34m\u001b[0m\u001b[0;34m\u001b[0m\u001b[0m\n",
      "\u001b[0;32m~/workspace/Storage/somayeh91/persistent/sims_maf_contrib/mafContrib/StarCountMetric.py\u001b[0m in \u001b[0;36mrun\u001b[0;34m(self, dataSlice, slicePoint)\u001b[0m\n\u001b[1;32m     25\u001b[0m       \u001b[0mself\u001b[0m\u001b[0;34m.\u001b[0m\u001b[0mDECCol\u001b[0m\u001b[0;34m=\u001b[0m\u001b[0mnp\u001b[0m\u001b[0;34m.\u001b[0m\u001b[0mdegrees\u001b[0m\u001b[0;34m(\u001b[0m\u001b[0mdataSlice\u001b[0m\u001b[0;34m[\u001b[0m\u001b[0;36m0\u001b[0m\u001b[0;34m]\u001b[0m\u001b[0;34m[\u001b[0m\u001b[0;36m3\u001b[0m\u001b[0;34m]\u001b[0m\u001b[0;34m)\u001b[0m\u001b[0;34m\u001b[0m\u001b[0;34m\u001b[0m\u001b[0m\n\u001b[1;32m     26\u001b[0m       \u001b[0mself\u001b[0m\u001b[0;34m.\u001b[0m\u001b[0mRACol\u001b[0m\u001b[0;34m=\u001b[0m\u001b[0mnp\u001b[0m\u001b[0;34m.\u001b[0m\u001b[0mdegrees\u001b[0m\u001b[0;34m(\u001b[0m\u001b[0mdataSlice\u001b[0m\u001b[0;34m[\u001b[0m\u001b[0;36m0\u001b[0m\u001b[0;34m]\u001b[0m\u001b[0;34m[\u001b[0m\u001b[0;36m2\u001b[0m\u001b[0;34m]\u001b[0m\u001b[0;34m)\u001b[0m\u001b[0;34m\u001b[0m\u001b[0;34m\u001b[0m\u001b[0m\n\u001b[0;32m---> 27\u001b[0;31m       \u001b[0;32mreturn\u001b[0m \u001b[0mstarcount\u001b[0m\u001b[0;34m.\u001b[0m\u001b[0mstarcount\u001b[0m\u001b[0;34m(\u001b[0m\u001b[0mself\u001b[0m\u001b[0;34m.\u001b[0m\u001b[0mRACol\u001b[0m\u001b[0;34m,\u001b[0m \u001b[0mself\u001b[0m\u001b[0;34m.\u001b[0m\u001b[0mDECCol\u001b[0m\u001b[0;34m,\u001b[0m \u001b[0mself\u001b[0m\u001b[0;34m.\u001b[0m\u001b[0mD1\u001b[0m\u001b[0;34m,\u001b[0m \u001b[0mself\u001b[0m\u001b[0;34m.\u001b[0m\u001b[0mD2\u001b[0m\u001b[0;34m)\u001b[0m\u001b[0;34m\u001b[0m\u001b[0;34m\u001b[0m\u001b[0m\n\u001b[0m\u001b[1;32m     28\u001b[0m \u001b[0;34m\u001b[0m\u001b[0m\n",
      "\u001b[0;32m~/workspace/Storage/somayeh91/persistent/sims_maf_contrib/mafContrib/StarCounts/StarCounts/starcount.py\u001b[0m in \u001b[0;36mstarcount\u001b[0;34m(eqRA, eqDEC, D1, D2)\u001b[0m\n\u001b[1;32m     29\u001b[0m    \u001b[0;31m#b_deg, l_deg=AstrometryBase.equatorialToGalactic(eqRA, eqDEC)\u001b[0m\u001b[0;34m\u001b[0m\u001b[0;34m\u001b[0m\u001b[0;34m\u001b[0m\u001b[0m\n\u001b[1;32m     30\u001b[0m    \u001b[0mb_deg\u001b[0m\u001b[0;34m,\u001b[0m \u001b[0ml_deg\u001b[0m\u001b[0;34m=\u001b[0m\u001b[0mcoords\u001b[0m\u001b[0;34m.\u001b[0m\u001b[0meq_gal3\u001b[0m\u001b[0;34m(\u001b[0m\u001b[0meqRA\u001b[0m\u001b[0;34m,\u001b[0m \u001b[0meqDEC\u001b[0m\u001b[0;34m)\u001b[0m\u001b[0;34m\u001b[0m\u001b[0;34m\u001b[0m\u001b[0m\n\u001b[0;32m---> 31\u001b[0;31m    \u001b[0mpositions\u001b[0m\u001b[0;34m=\u001b[0m\u001b[0;34m[\u001b[0m\u001b[0mcoords\u001b[0m\u001b[0;34m.\u001b[0m\u001b[0mgal_cyn\u001b[0m\u001b[0;34m(\u001b[0m\u001b[0mb_deg\u001b[0m\u001b[0;34m,\u001b[0m \u001b[0ml_deg\u001b[0m\u001b[0;34m,\u001b[0m \u001b[0mx\u001b[0m\u001b[0;34m)\u001b[0m \u001b[0;32mfor\u001b[0m \u001b[0mx\u001b[0m \u001b[0;32min\u001b[0m \u001b[0mdistances\u001b[0m\u001b[0;34m]\u001b[0m\u001b[0;34m\u001b[0m\u001b[0;34m\u001b[0m\u001b[0m\n\u001b[0m\u001b[1;32m     32\u001b[0m    \u001b[0mdensities\u001b[0m\u001b[0;34m=\u001b[0m\u001b[0;34m[\u001b[0m\u001b[0mstellardensity\u001b[0m\u001b[0;34m.\u001b[0m\u001b[0mstellardensity\u001b[0m\u001b[0;34m(\u001b[0m\u001b[0mx\u001b[0m\u001b[0;34m[\u001b[0m\u001b[0;36m0\u001b[0m\u001b[0;34m]\u001b[0m\u001b[0;34m,\u001b[0m \u001b[0mx\u001b[0m\u001b[0;34m[\u001b[0m\u001b[0;36m2\u001b[0m\u001b[0;34m]\u001b[0m\u001b[0;34m)\u001b[0m \u001b[0;32mfor\u001b[0m \u001b[0mx\u001b[0m \u001b[0;32min\u001b[0m \u001b[0mpositions\u001b[0m\u001b[0;34m]\u001b[0m\u001b[0;34m\u001b[0m\u001b[0;34m\u001b[0m\u001b[0m\n\u001b[1;32m     33\u001b[0m    \u001b[0mtotalcount\u001b[0m\u001b[0;34m=\u001b[0m\u001b[0mnp\u001b[0m\u001b[0;34m.\u001b[0m\u001b[0msum\u001b[0m\u001b[0;34m(\u001b[0m\u001b[0mnp\u001b[0m\u001b[0;34m.\u001b[0m\u001b[0masarray\u001b[0m\u001b[0;34m(\u001b[0m\u001b[0mvolumes\u001b[0m\u001b[0;34m)\u001b[0m\u001b[0;34m*\u001b[0m\u001b[0mnp\u001b[0m\u001b[0;34m.\u001b[0m\u001b[0masarray\u001b[0m\u001b[0;34m(\u001b[0m\u001b[0mdensities\u001b[0m\u001b[0;34m)\u001b[0m\u001b[0;34m)\u001b[0m\u001b[0;34m\u001b[0m\u001b[0;34m\u001b[0m\u001b[0m\n",
      "\u001b[0;32m~/workspace/Storage/somayeh91/persistent/sims_maf_contrib/mafContrib/StarCounts/StarCounts/starcount.py\u001b[0m in \u001b[0;36m<listcomp>\u001b[0;34m(.0)\u001b[0m\n\u001b[1;32m     29\u001b[0m    \u001b[0;31m#b_deg, l_deg=AstrometryBase.equatorialToGalactic(eqRA, eqDEC)\u001b[0m\u001b[0;34m\u001b[0m\u001b[0;34m\u001b[0m\u001b[0;34m\u001b[0m\u001b[0m\n\u001b[1;32m     30\u001b[0m    \u001b[0mb_deg\u001b[0m\u001b[0;34m,\u001b[0m \u001b[0ml_deg\u001b[0m\u001b[0;34m=\u001b[0m\u001b[0mcoords\u001b[0m\u001b[0;34m.\u001b[0m\u001b[0meq_gal3\u001b[0m\u001b[0;34m(\u001b[0m\u001b[0meqRA\u001b[0m\u001b[0;34m,\u001b[0m \u001b[0meqDEC\u001b[0m\u001b[0;34m)\u001b[0m\u001b[0;34m\u001b[0m\u001b[0;34m\u001b[0m\u001b[0m\n\u001b[0;32m---> 31\u001b[0;31m    \u001b[0mpositions\u001b[0m\u001b[0;34m=\u001b[0m\u001b[0;34m[\u001b[0m\u001b[0mcoords\u001b[0m\u001b[0;34m.\u001b[0m\u001b[0mgal_cyn\u001b[0m\u001b[0;34m(\u001b[0m\u001b[0mb_deg\u001b[0m\u001b[0;34m,\u001b[0m \u001b[0ml_deg\u001b[0m\u001b[0;34m,\u001b[0m \u001b[0mx\u001b[0m\u001b[0;34m)\u001b[0m \u001b[0;32mfor\u001b[0m \u001b[0mx\u001b[0m \u001b[0;32min\u001b[0m \u001b[0mdistances\u001b[0m\u001b[0;34m]\u001b[0m\u001b[0;34m\u001b[0m\u001b[0;34m\u001b[0m\u001b[0m\n\u001b[0m\u001b[1;32m     32\u001b[0m    \u001b[0mdensities\u001b[0m\u001b[0;34m=\u001b[0m\u001b[0;34m[\u001b[0m\u001b[0mstellardensity\u001b[0m\u001b[0;34m.\u001b[0m\u001b[0mstellardensity\u001b[0m\u001b[0;34m(\u001b[0m\u001b[0mx\u001b[0m\u001b[0;34m[\u001b[0m\u001b[0;36m0\u001b[0m\u001b[0;34m]\u001b[0m\u001b[0;34m,\u001b[0m \u001b[0mx\u001b[0m\u001b[0;34m[\u001b[0m\u001b[0;36m2\u001b[0m\u001b[0;34m]\u001b[0m\u001b[0;34m)\u001b[0m \u001b[0;32mfor\u001b[0m \u001b[0mx\u001b[0m \u001b[0;32min\u001b[0m \u001b[0mpositions\u001b[0m\u001b[0;34m]\u001b[0m\u001b[0;34m\u001b[0m\u001b[0;34m\u001b[0m\u001b[0m\n\u001b[1;32m     33\u001b[0m    \u001b[0mtotalcount\u001b[0m\u001b[0;34m=\u001b[0m\u001b[0mnp\u001b[0m\u001b[0;34m.\u001b[0m\u001b[0msum\u001b[0m\u001b[0;34m(\u001b[0m\u001b[0mnp\u001b[0m\u001b[0;34m.\u001b[0m\u001b[0masarray\u001b[0m\u001b[0;34m(\u001b[0m\u001b[0mvolumes\u001b[0m\u001b[0;34m)\u001b[0m\u001b[0;34m*\u001b[0m\u001b[0mnp\u001b[0m\u001b[0;34m.\u001b[0m\u001b[0masarray\u001b[0m\u001b[0;34m(\u001b[0m\u001b[0mdensities\u001b[0m\u001b[0;34m)\u001b[0m\u001b[0;34m)\u001b[0m\u001b[0;34m\u001b[0m\u001b[0;34m\u001b[0m\u001b[0m\n",
      "\u001b[0;32m~/workspace/Storage/somayeh91/persistent/sims_maf_contrib/mafContrib/StarCounts/StarCounts/coords.py\u001b[0m in \u001b[0;36mgal_cyn\u001b[0;34m(b_deg, l_deg, dist)\u001b[0m\n\u001b[1;32m     83\u001b[0m    \u001b[0my\u001b[0m\u001b[0;34m=\u001b[0m\u001b[0mnp\u001b[0m\u001b[0;34m.\u001b[0m\u001b[0msin\u001b[0m\u001b[0;34m(\u001b[0m\u001b[0ml_rad\u001b[0m\u001b[0;34m)\u001b[0m\u001b[0;34m*\u001b[0m\u001b[0mxy\u001b[0m\u001b[0;34m\u001b[0m\u001b[0;34m\u001b[0m\u001b[0m\n\u001b[1;32m     84\u001b[0m    \u001b[0mx_new\u001b[0m\u001b[0;34m=\u001b[0m\u001b[0;36m8000.\u001b[0m\u001b[0;34m-\u001b[0m\u001b[0mx\u001b[0m\u001b[0;34m\u001b[0m\u001b[0;34m\u001b[0m\u001b[0m\n\u001b[0;32m---> 85\u001b[0;31m    \u001b[0mR\u001b[0m\u001b[0;34m=\u001b[0m\u001b[0mnp\u001b[0m\u001b[0;34m.\u001b[0m\u001b[0mpower\u001b[0m\u001b[0;34m(\u001b[0m\u001b[0mx_new\u001b[0m\u001b[0;34m**\u001b[0m\u001b[0;36m2\u001b[0m\u001b[0;34m+\u001b[0m\u001b[0my\u001b[0m\u001b[0;34m**\u001b[0m\u001b[0;36m2\u001b[0m\u001b[0;34m,\u001b[0m \u001b[0;36m0.5\u001b[0m\u001b[0;34m)\u001b[0m\u001b[0;34m\u001b[0m\u001b[0;34m\u001b[0m\u001b[0m\n\u001b[0m\u001b[1;32m     86\u001b[0m    \u001b[0mrho\u001b[0m\u001b[0;34m=\u001b[0m\u001b[0mnp\u001b[0m\u001b[0;34m.\u001b[0m\u001b[0marctan\u001b[0m\u001b[0;34m(\u001b[0m\u001b[0my\u001b[0m\u001b[0;34m/\u001b[0m\u001b[0mx\u001b[0m\u001b[0;34m)\u001b[0m\u001b[0;34m\u001b[0m\u001b[0;34m\u001b[0m\u001b[0m\n\u001b[1;32m     87\u001b[0m    \u001b[0;32mreturn\u001b[0m \u001b[0mR\u001b[0m\u001b[0;34m,\u001b[0m \u001b[0mrho\u001b[0m\u001b[0;34m,\u001b[0m \u001b[0mZ\u001b[0m\u001b[0;34m\u001b[0m\u001b[0;34m\u001b[0m\u001b[0m\n",
      "\u001b[0;31mKeyboardInterrupt\u001b[0m: "
     ]
    }
   ],
   "source": [
    "# metricDataPath = '/home/idies/workspace/Storage/{}/persistent/MAFOutput/output_10_26_2020/'.format(your_username)\n",
    "\n",
    "# below I am only going to run metrics on the first five opsims\n",
    "for run in dbruns_selected[:5]:\n",
    "    print (run)\n",
    "    run_name = run.split('1.5/')[1].split('.d')[0]\n",
    "    \n",
    "    # must set run name for each opSim to store metric data into\n",
    "    # separate files\n",
    "#     uniformity.setRunName(run_name)\n",
    "#     starcount.setRunName(run_name)\n",
    "#     campaignlength.setRunName(run_name)\n",
    "#     nrevisits.setRunName(run_name)\n",
    "    metricGroup = metricBundles.MetricBundleGroup(bundleDict,\\\n",
    "                    opSimDbs[run_name], metricDataPath, resultDbs[run_name])\n",
    "    metricGroup.runAll()"
   ]
  },
  {
   "cell_type": "code",
   "execution_count": null,
   "metadata": {},
   "outputs": [],
   "source": []
  }
 ],
 "metadata": {
  "kernelspec": {
   "display_name": "Python 3",
   "language": "python",
   "name": "python3"
  },
  "language_info": {
   "codemirror_mode": {
    "name": "ipython",
    "version": 3
   },
   "file_extension": ".py",
   "mimetype": "text/x-python",
   "name": "python",
   "nbconvert_exporter": "python",
   "pygments_lexer": "ipython3",
   "version": "3.7.2"
  }
 },
 "nbformat": 4,
 "nbformat_minor": 4
}
