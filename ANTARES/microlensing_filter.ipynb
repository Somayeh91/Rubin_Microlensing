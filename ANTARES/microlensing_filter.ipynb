{
 "cells": [
  {
   "cell_type": "code",
   "execution_count": 1,
   "id": "bde8999b-e147-4b5f-b7b6-6a09d6705d61",
   "metadata": {
    "execution": {
     "iopub.execute_input": "2025-05-13T14:30:23.974881Z",
     "iopub.status.busy": "2025-05-13T14:30:23.974653Z",
     "iopub.status.idle": "2025-05-13T14:30:23.981100Z",
     "shell.execute_reply": "2025-05-13T14:30:23.980734Z",
     "shell.execute_reply.started": "2025-05-13T14:30:23.974865Z"
    }
   },
   "outputs": [
    {
     "name": "stdout",
     "output_type": "stream",
     "text": [
      "Loading ANTARES from /data0/sw/antares-kernel/lib/python3.9/site-packages/antares/__init__.py\n",
      "\n",
      "        _    _   _ _____  _    ____  _____ ____\n",
      "       / \\  | \\ | |_   _|/ \\  |  _ \\| ____/ ___|\n",
      "      / _ \\ |  \\| | | | / _ \\ | |_| |  _| \\___ \\\\\n",
      "     / ___ \\| |\\  | | |/ ___ \\|  _ /| |___ ___| |\n",
      "    /_/   \\_\\_| \\_| |_/_/   \\_\\_| \\_\\_____|____/   v2.11.0\n",
      "    \n"
     ]
    }
   ],
   "source": [
    "import antares"
   ]
  },
  {
   "cell_type": "code",
   "execution_count": 2,
   "id": "0a1fb617-42cf-4611-9810-f765318e4825",
   "metadata": {
    "execution": {
     "iopub.execute_input": "2025-05-13T14:30:24.924398Z",
     "iopub.status.busy": "2025-05-13T14:30:24.924219Z",
     "iopub.status.idle": "2025-05-13T14:30:31.510473Z",
     "shell.execute_reply": "2025-05-13T14:30:31.509997Z",
     "shell.execute_reply.started": "2025-05-13T14:30:24.924382Z"
    }
   },
   "outputs": [
    {
     "name": "stdout",
     "output_type": "stream",
     "text": [
      "2025-05-13 07:30:25,945 - WARNING MainThread settings.py:setup_prometheus:124 - Prometheus failed to start with [Errno 98] Address already in use\n",
      "2025-05-13 07:30:26,068 - WARNING MainThread settings.py:setup_prometheus:124 - Prometheus failed to start with [Errno 98] Address already in use\n"
     ]
    },
    {
     "name": "stderr",
     "output_type": "stream",
     "text": [
      "Jaeger tracer already initialized, skipping\n"
     ]
    },
    {
     "name": "stdout",
     "output_type": "stream",
     "text": [
      "Testing loading a random Locus with `dk.get_locus()`...\n",
      "\n",
      "ANTARES v2.11.0 DevKit is ready!\n",
      "Website: https://antares.noirlab.edu\n",
      "Documentation: https://nsf-noirlab.gitlab.io/csdc/antares/antares/\n",
      "\n"
     ]
    }
   ],
   "source": [
    "# Imports\n",
    "import antares.devkit as dk\n",
    "dk.init()\n",
    "# You should see a happy message that says that \"ANTARES DevKit is ready!\""
   ]
  },
  {
   "cell_type": "code",
   "execution_count": 49,
   "id": "ba51bef7-33a3-4365-a3be-ff930bdc96c9",
   "metadata": {
    "execution": {
     "iopub.execute_input": "2025-05-13T15:09:11.664619Z",
     "iopub.status.busy": "2025-05-13T15:09:11.664410Z",
     "iopub.status.idle": "2025-05-13T15:09:11.669301Z",
     "shell.execute_reply": "2025-05-13T15:09:11.668865Z",
     "shell.execute_reply.started": "2025-05-13T15:09:11.664605Z"
    }
   },
   "outputs": [],
   "source": [
    "# Define a Paczyński microlensing model\n",
    "def paczynski(t, t0, u0, tE, F_s):\n",
    "    \"\"\"\n",
    "    Paczyński microlensing light curve model\n",
    "    t0 : peak time\n",
    "    u0 : impact parameter\n",
    "    tE : Einstein crossing time\n",
    "    F_s : source flux\n",
    "    F_b : blended flux\n",
    "    \"\"\"\n",
    "    u = np.sqrt(u0**2 + ((t - t0) / tE) ** 2)\n",
    "    A = (u**2 + 2) / (u * np.sqrt(u**2 + 4))\n",
    "    return F_s * (A - 1) + (1-F_s)\n",
    "\n",
    "def mag_to_flux(mag, F0=1.0):\n",
    "    \"\"\"\n",
    "    Convert magnitude to flux.\n",
    "    \n",
    "    Parameters:\n",
    "    - mag : magnitude (float or array)\n",
    "    - F0 : reference flux (zeropoint), default=1.0 for relative flux\n",
    "    \n",
    "    Returns:\n",
    "    - flux : flux corresponding to the magnitude\n",
    "    \"\"\"\n",
    "    flux = F0 * 10**(-0.4 * mag)\n",
    "    flux = flux/np.min(flux)\n",
    "    return flux\n",
    "    \n",
    "def magerr_to_fluxerr(mag, mag_err, F0=1.0):\n",
    "    \"\"\"\n",
    "    Convert magnitude uncertainty to flux uncertainty.\n",
    "    \n",
    "    Parameters:\n",
    "    - mag : magnitude value or array\n",
    "    - mag_err : magnitude uncertainty value or array\n",
    "    - F0 : zeropoint flux (default=1.0 for relative flux)\n",
    "    \n",
    "    Returns:\n",
    "    - flux_err : flux uncertainty\n",
    "    \"\"\"\n",
    "    flux = mag_to_flux(mag, F0)\n",
    "    flux_err = 0.4 * np.log(10) * flux * mag_err\n",
    "    return flux_err"
   ]
  },
  {
   "cell_type": "markdown",
   "id": "fb0afe7a-1ca7-4e31-9255-fa8c9255d9ce",
   "metadata": {},
   "source": [
    "# Writing a preliminary microlensing filter that reads in the photometry"
   ]
  },
  {
   "cell_type": "code",
   "execution_count": 79,
   "id": "6265a270-ba5e-447e-ae71-e9b07e9ca381",
   "metadata": {
    "execution": {
     "iopub.execute_input": "2025-05-13T15:27:26.715817Z",
     "iopub.status.busy": "2025-05-13T15:27:26.715579Z",
     "iopub.status.idle": "2025-05-13T15:27:26.726062Z",
     "shell.execute_reply": "2025-05-13T15:27:26.725643Z",
     "shell.execute_reply.started": "2025-05-13T15:27:26.715801Z"
    }
   },
   "outputs": [],
   "source": [
    "from statsmodels.stats.weightstats import DescrStatsW\n",
    "import numpy as np\n",
    "from astropy.table import MaskedColumn\n",
    "import warnings\n",
    "import astropy\n",
    "import matplotlib.pyplot as plt\n",
    "from scipy.optimize import curve_fit\n",
    "from scipy.stats import skew\n",
    "\n",
    "class microlensing(dk.Filter):    \n",
    "    INPUT_LOCUS_PROPERTIES = [\n",
    "        'ztf_object_id',\n",
    "    ]\n",
    "    \n",
    "    OUTPUT_TAGS = [\n",
    "        {\n",
    "            'name': 'microlensing_candidate',\n",
    "            'description': 'Locus - a transient candidate - exhibits a microlensing-like variability',\n",
    "        }\n",
    "    ]\n",
    "\n",
    "\n",
    "    def make_lc(self, locus):\n",
    "\n",
    "        with warnings.catch_warnings():\n",
    "            # The cast of locus.timeseries: astropy.table.Table to a pandas\n",
    "            # dataframe results in the conversion of some integer-valued\n",
    "            # columns to floating point represntation. This can result in a\n",
    "            # number of noisy warning so we will catch & ignore them for the\n",
    "            # next couple of lines.\n",
    "            warnings.simplefilter(\"ignore\", astropy.table.TableReplaceWarning)\n",
    "            df = locus.timeseries.to_pandas()\n",
    "\n",
    "        data = df[['ant_mjd', 'ztf_fid', 'ztf_magpsf', 'ztf_sigmapsf']]\n",
    "        \n",
    "        dn = data.dropna()\n",
    "        times=dn['ant_mjd'][dn['ztf_fid']==1]\n",
    "        mags = dn['ztf_magpsf'][dn['ztf_fid']==1]\n",
    "        mags_err = dn['ztf_sigmapsf'][dn['ztf_fid']==1]\n",
    "        flxs = mag_to_flux(mags)\n",
    "        flx_errs = magerr_to_fluxerr(mags, mags_err)\n",
    "        \n",
    "        t0_guess = times[np.argmin(mags)]  # Min mag is peak time\n",
    "        u0_guess = 1/(np.max(flxs))\n",
    "\n",
    "        initial_fit  = paczynski(times,\n",
    "                                     t0_guess, \n",
    "                                     u0_guess, \n",
    "                                     20, \n",
    "                                     0.5)\n",
    "\n",
    "        # plt.gca().invert_yaxis()\n",
    "        plt.scatter(times, \n",
    "                    flxs, color='g', label='g_band')\n",
    "        plt.plot(times, \n",
    "                 initial_fit, color='b', label='initial fit')\n",
    "        \n",
    "        plt.xlabel('Time (mjd)')\n",
    "        plt.ylabel('Flux')\n",
    "        plt.legend()\n",
    "\n",
    "\n",
    "    def is_microlensing_candidate(self, times, mags, errors):\n",
    "        \"\"\"\n",
    "        Example of a set of Microlensing detection criteria\n",
    "        \"\"\"\n",
    "        if len(times) < 10:  # Too few data points\n",
    "            return False\n",
    "\n",
    "        # Sort data by time\n",
    "        sorted_idx = np.argsort(times)\n",
    "        times, mags, errors = times[sorted_idx], mags[sorted_idx], errors[sorted_idx]\n",
    "\n",
    "        # 1. Check for smoothness (low skewness means symmetric light curve)\n",
    "        if abs(skew(mags)) > 1:\n",
    "            return False\n",
    "\n",
    "        # 2. Check variability (microlensing should have a clear peak)\n",
    "        if np.ptp(mags) < 0.5:  # Peak-to-peak magnitude difference\n",
    "            return False\n",
    "\n",
    "        flxs = mag_to_flux(mags)\n",
    "        flx_errs = magerr_to_fluxerr(mags, errors)\n",
    "\n",
    "        # 3. Perform a lightweight template fit (Paczyński model)\n",
    "        t0_guess = times[np.argmin(mags)]  # Min mag is peak time\n",
    "        u0_guess = 1/(np.max(flxs))\n",
    "        initial_guess = [t0_guess, \n",
    "                         u0_guess, \n",
    "                         20, \n",
    "                         0.5]  # Initial params\n",
    "\n",
    "        # try:\n",
    "        popt, _ = curve_fit(paczynski, times, flxs, p0=initial_guess, sigma=flx_errs)\n",
    "        chi2 = np.sum(((flxs - paczynski(times, *popt)) / flx_errs) ** 2) / len(times)\n",
    "\n",
    "        # 4. Apply a simple chi2 threshold\n",
    "        if chi2 < 2:  # Well-fit light curves pass\n",
    "            return True\n",
    "        # except RuntimeError:\n",
    "        #     return False  # Fit failed\n",
    "\n",
    "        return False\n",
    "    def run(self, locus):\n",
    "        print('Processing Locus:', locus.locus_id)\n",
    "\n",
    "        with warnings.catch_warnings():\n",
    "            warnings.simplefilter(\"ignore\", astropy.table.TableReplaceWarning)\n",
    "            df = locus.timeseries.to_pandas()\n",
    "\n",
    "        data = df[['ant_mjd', 'ztf_fid', 'ztf_magpsf', 'ztf_sigmapsf']].dropna()\n",
    "\n",
    "        \n",
    "        \n",
    "        # Split into g-band and i-band\n",
    "        for band in [1, 2]:  # 1 = g-band, 2 = i-band\n",
    "            band_data = data[data['ztf_fid'] == band]\n",
    "            times, mags, errors = band_data['ant_mjd'].values, band_data['ztf_magpsf'].values, band_data['ztf_sigmapsf'].values\n",
    "            \n",
    "            if self.is_microlensing_candidate(times, mags, errors):\n",
    "                print(f'Locus {locus.locus_id} is a microlensing candidate in band {band}')\n",
    "                locus.tag('microlensing_candidate')\n",
    "        \n",
    "        \n",
    "        return"
   ]
  },
  {
   "cell_type": "code",
   "execution_count": 80,
   "id": "959bd7a3-13da-499f-8012-fb68e7f75614",
   "metadata": {
    "execution": {
     "iopub.execute_input": "2025-05-13T15:27:27.233990Z",
     "iopub.status.busy": "2025-05-13T15:27:27.233764Z",
     "iopub.status.idle": "2025-05-13T15:27:28.035466Z",
     "shell.execute_reply": "2025-05-13T15:27:28.034860Z",
     "shell.execute_reply.started": "2025-05-13T15:27:27.233979Z"
    }
   },
   "outputs": [
    {
     "name": "stdout",
     "output_type": "stream",
     "text": [
      "Processing Locus: ANT2023wuk92lk9fz76\n",
      "Locus ANT2023wuk92lk9fz76 is a microlensing candidate in band 1\n",
      "Locus ANT2023wuk92lk9fz76 is a microlensing candidate in band 2\n"
     ]
    },
    {
     "name": "stderr",
     "output_type": "stream",
     "text": [
      "/data0/sw/antares-kernel/lib/python3.9/site-packages/pandas/core/arraylike.py:399: RuntimeWarning: invalid value encountered in log10\n",
      "  result = getattr(ufunc, method)(*inputs, **kwargs)\n"
     ]
    }
   ],
   "source": [
    "# Execute the microlensing filter on the locus\n",
    "report = dk.run_filter(microlensing, locus=\"ANT2023wuk92lk9fz76\")\n"
   ]
  },
  {
   "cell_type": "code",
   "execution_count": 81,
   "id": "1c0f74d3-09e0-43e7-8d24-000b4268909b",
   "metadata": {
    "execution": {
     "iopub.execute_input": "2025-05-13T15:27:31.063763Z",
     "iopub.status.busy": "2025-05-13T15:27:31.063564Z",
     "iopub.status.idle": "2025-05-13T15:27:31.066718Z",
     "shell.execute_reply": "2025-05-13T15:27:31.066265Z",
     "shell.execute_reply.started": "2025-05-13T15:27:31.063749Z"
    }
   },
   "outputs": [
    {
     "name": "stdout",
     "output_type": "stream",
     "text": [
      "{'microlensing_candidate'}\n"
     ]
    }
   ],
   "source": [
    "print(report['new_tags'])"
   ]
  },
  {
   "cell_type": "code",
   "execution_count": 82,
   "id": "18b5e878-9f35-46d4-8478-6da94348347f",
   "metadata": {
    "execution": {
     "iopub.execute_input": "2025-05-13T15:27:33.392397Z",
     "iopub.status.busy": "2025-05-13T15:27:33.392198Z",
     "iopub.status.idle": "2025-05-13T15:27:54.898542Z",
     "shell.execute_reply": "2025-05-13T15:27:54.897868Z",
     "shell.execute_reply.started": "2025-05-13T15:27:33.392384Z"
    }
   },
   "outputs": [
    {
     "name": "stdout",
     "output_type": "stream",
     "text": [
      "Processing Locus: ANT2019klw2u\n",
      "Processing Locus: ANT2020b2ppw\n"
     ]
    },
    {
     "name": "stderr",
     "output_type": "stream",
     "text": [
      "/data0/sw/antares-kernel/lib/python3.9/site-packages/pandas/core/arraylike.py:399: RuntimeWarning: invalid value encountered in log10\n",
      "  result = getattr(ufunc, method)(*inputs, **kwargs)\n"
     ]
    },
    {
     "name": "stdout",
     "output_type": "stream",
     "text": [
      "Processing Locus: ANT2020vrqwg\n",
      "Processing Locus: ANT2020ar224\n"
     ]
    },
    {
     "name": "stderr",
     "output_type": "stream",
     "text": [
      "/data0/sw/antares-kernel/lib/python3.9/site-packages/pandas/core/arraylike.py:399: RuntimeWarning: invalid value encountered in log10\n",
      "  result = getattr(ufunc, method)(*inputs, **kwargs)\n"
     ]
    },
    {
     "name": "stdout",
     "output_type": "stream",
     "text": [
      "Processing Locus: ANT2020bvtk2\n",
      "Processing Locus: ANT2020afaa7ci\n"
     ]
    },
    {
     "name": "stderr",
     "output_type": "stream",
     "text": [
      "/data0/sw/antares-kernel/lib/python3.9/site-packages/pandas/core/arraylike.py:399: RuntimeWarning: invalid value encountered in log10\n",
      "  result = getattr(ufunc, method)(*inputs, **kwargs)\n"
     ]
    },
    {
     "name": "stdout",
     "output_type": "stream",
     "text": [
      "Processing Locus: ANT2020aesodfa\n",
      "Processing Locus: ANT2020caxcg\n",
      "Processing Locus: ANT2020b23ci\n",
      "Filter crashed:\n",
      "\n",
      "Optimal parameters not found: Number of calls to function has reached maxfev = 1000.\n"
     ]
    },
    {
     "name": "stderr",
     "output_type": "stream",
     "text": [
      "/data0/sw/antares-kernel/lib/python3.9/site-packages/pandas/core/arraylike.py:399: RuntimeWarning: invalid value encountered in log10\n",
      "  result = getattr(ufunc, method)(*inputs, **kwargs)\n"
     ]
    },
    {
     "name": "stdout",
     "output_type": "stream",
     "text": [
      "Processing Locus: ANT2020aryaq\n",
      "{'n': 10, 'results': [{'locus_id': 'ANT2019klw2u', 'locus_data': FilterContext(locus_id=\"ANT2019klw2u\"), 't': 0.060441900999997245, 'new_locus_properties': {}, 'new_alert_properties': {}, 'new_tags': set(), 'raised_halt': False}, {'locus_id': 'ANT2020b2ppw', 'locus_data': FilterContext(locus_id=\"ANT2020b2ppw\"), 't': 0.0526519780000001, 'new_locus_properties': {}, 'new_alert_properties': {}, 'new_tags': set(), 'raised_halt': False}, {'locus_id': 'ANT2020vrqwg', 'locus_data': FilterContext(locus_id=\"ANT2020vrqwg\"), 't': 0.05779401899999925, 'new_locus_properties': {}, 'new_alert_properties': {}, 'new_tags': set(), 'raised_halt': False}, {'locus_id': 'ANT2020ar224', 'locus_data': FilterContext(locus_id=\"ANT2020ar224\"), 't': 0.05578459800000246, 'new_locus_properties': {}, 'new_alert_properties': {}, 'new_tags': set(), 'raised_halt': False}, {'locus_id': 'ANT2020bvtk2', 'locus_data': FilterContext(locus_id=\"ANT2020bvtk2\"), 't': 0.06708379300000189, 'new_locus_properties': {}, 'new_alert_properties': {}, 'new_tags': set(), 'raised_halt': False}, {'locus_id': 'ANT2020afaa7ci', 'locus_data': FilterContext(locus_id=\"ANT2020afaa7ci\"), 't': 0.046980487999995546, 'new_locus_properties': {}, 'new_alert_properties': {}, 'new_tags': set(), 'raised_halt': False}, {'locus_id': 'ANT2020aesodfa', 'locus_data': FilterContext(locus_id=\"ANT2020aesodfa\"), 't': 0.044199745000000235, 'new_locus_properties': {}, 'new_alert_properties': {}, 'new_tags': set(), 'raised_halt': False}, {'locus_id': 'ANT2020caxcg', 'locus_data': FilterContext(locus_id=\"ANT2020caxcg\"), 't': 0.051544057000000976, 'new_locus_properties': {}, 'new_alert_properties': {}, 'new_tags': set(), 'raised_halt': False}, {'locus_id': 'ANT2020b23ci', 'locus_data': FilterContext(locus_id=\"ANT2020b23ci\"), 't': 0.08079789699999651, 'new_locus_properties': {}, 'new_alert_properties': {}, 'new_tags': set(), 'raised_halt': False}, {'locus_id': 'ANT2020aryaq', 'locus_data': FilterContext(locus_id=\"ANT2020aryaq\"), 't': 0.05962824000000211, 'new_locus_properties': {}, 'new_alert_properties': {}, 'new_tags': set(), 'raised_halt': False}], 't_50_percentile': 0.05678930850000086, 't_90_percentile': 0.06845520340000134, 't_95_percentile': 0.07462655019999892, 't_99_percentile': 0.079563627639997}\n"
     ]
    }
   ],
   "source": [
    "report = dk.run_many(microlensing, n=10)\n",
    "\n",
    "# `run_many()` returns a report of what the filter did. Take a look at it:\n",
    "print(report)"
   ]
  },
  {
   "cell_type": "code",
   "execution_count": null,
   "id": "9a394789-c5b9-4cc9-86bf-cd96e1366ddd",
   "metadata": {},
   "outputs": [],
   "source": []
  }
 ],
 "metadata": {
  "kernelspec": {
   "display_name": "Python 3 (ANTARES,Py3.9.18)",
   "language": "python",
   "name": "antares_py3.7"
  },
  "language_info": {
   "codemirror_mode": {
    "name": "ipython",
    "version": 3
   },
   "file_extension": ".py",
   "mimetype": "text/x-python",
   "name": "python",
   "nbconvert_exporter": "python",
   "pygments_lexer": "ipython3",
   "version": "3.9.18"
  }
 },
 "nbformat": 4,
 "nbformat_minor": 5
}
